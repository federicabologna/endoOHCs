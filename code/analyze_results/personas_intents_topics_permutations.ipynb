{
 "cells": [
  {
   "cell_type": "markdown",
   "metadata": {
    "id": "37YtQNeOZAbi"
   },
   "source": [
    "### Imports"
   ]
  },
  {
   "cell_type": "code",
   "execution_count": null,
   "metadata": {
    "id": "32F4ScmHn0sC"
   },
   "outputs": [],
   "source": [
    "import os\n",
    "import re\n",
    "import pandas as pd\n",
    "import numpy as np\n",
    "import seaborn as sns\n",
    "import matplotlib.pyplot as plt\n",
    "from scipy import stats\n",
    "from google.colab import drive, files"
   ]
  },
  {
   "cell_type": "code",
   "execution_count": null,
   "metadata": {
    "colab": {
     "base_uri": "https://localhost:8080/"
    },
    "executionInfo": {
     "elapsed": 1525,
     "status": "ok",
     "timestamp": 1673359996966,
     "user": {
      "displayName": "Federica Bologna",
      "userId": "16530074403271623482"
     },
     "user_tz": -60
    },
    "id": "dyzt2fezn3v-",
    "outputId": "702ae7db-5e93-4afc-f6b1-3435ab6b1cba"
   },
   "outputs": [
    {
     "name": "stdout",
     "output_type": "stream",
     "text": [
      "Drive already mounted at /content/drive; to attempt to forcibly remount, call drive.mount(\"/content/drive\", force_remount=True).\n"
     ]
    }
   ],
   "source": [
    "drive.mount('/content/drive')"
   ]
  },
  {
   "cell_type": "code",
   "execution_count": null,
   "metadata": {
    "id": "hMRMSoyNnh-j"
   },
   "outputs": [],
   "source": [
    "# point to the drive directory\n",
    "endo_dir = '/content/drive/MyDrive/endometriosis/'"
   ]
  },
  {
   "cell_type": "code",
   "execution_count": null,
   "metadata": {
    "colab": {
     "base_uri": "https://localhost:8080/",
     "height": 99
    },
    "executionInfo": {
     "elapsed": 3318,
     "status": "ok",
     "timestamp": 1673360000280,
     "user": {
      "displayName": "Federica Bologna",
      "userId": "16530074403271623482"
     },
     "user_tz": -60
    },
    "id": "30UgSERn0Ygo",
    "outputId": "c55670dc-5395-4008-c835-f03478f7b313"
   },
   "outputs": [
    {
     "name": "stdout",
     "output_type": "stream",
     "text": [
      "34522\n"
     ]
    },
    {
     "data": {
      "text/html": [
       "\n",
       "  <div id=\"df-48575933-3423-4a44-a365-b511537e9c5b\">\n",
       "    <div class=\"colab-df-container\">\n",
       "      <div>\n",
       "<style scoped>\n",
       "    .dataframe tbody tr th:only-of-type {\n",
       "        vertical-align: middle;\n",
       "    }\n",
       "\n",
       "    .dataframe tbody tr th {\n",
       "        vertical-align: top;\n",
       "    }\n",
       "\n",
       "    .dataframe thead th {\n",
       "        text-align: right;\n",
       "    }\n",
       "</style>\n",
       "<table border=\"1\" class=\"dataframe\">\n",
       "  <thead>\n",
       "    <tr style=\"text-align: right;\">\n",
       "      <th></th>\n",
       "      <th>id</th>\n",
       "      <th>predictions_DOCTORS</th>\n",
       "      <th>predictions_FAMILY</th>\n",
       "      <th>predictions_ENDO SUPPORT COMMUNITY</th>\n",
       "      <th>predictions_PARTNER</th>\n",
       "    </tr>\n",
       "  </thead>\n",
       "  <tbody>\n",
       "    <tr>\n",
       "      <th>0</th>\n",
       "      <td>Endo_otb0m_post</td>\n",
       "      <td>0</td>\n",
       "      <td>0</td>\n",
       "      <td>5</td>\n",
       "      <td>0</td>\n",
       "    </tr>\n",
       "  </tbody>\n",
       "</table>\n",
       "</div>\n",
       "      <button class=\"colab-df-convert\" onclick=\"convertToInteractive('df-48575933-3423-4a44-a365-b511537e9c5b')\"\n",
       "              title=\"Convert this dataframe to an interactive table.\"\n",
       "              style=\"display:none;\">\n",
       "        \n",
       "  <svg xmlns=\"http://www.w3.org/2000/svg\" height=\"24px\"viewBox=\"0 0 24 24\"\n",
       "       width=\"24px\">\n",
       "    <path d=\"M0 0h24v24H0V0z\" fill=\"none\"/>\n",
       "    <path d=\"M18.56 5.44l.94 2.06.94-2.06 2.06-.94-2.06-.94-.94-2.06-.94 2.06-2.06.94zm-11 1L8.5 8.5l.94-2.06 2.06-.94-2.06-.94L8.5 2.5l-.94 2.06-2.06.94zm10 10l.94 2.06.94-2.06 2.06-.94-2.06-.94-.94-2.06-.94 2.06-2.06.94z\"/><path d=\"M17.41 7.96l-1.37-1.37c-.4-.4-.92-.59-1.43-.59-.52 0-1.04.2-1.43.59L10.3 9.45l-7.72 7.72c-.78.78-.78 2.05 0 2.83L4 21.41c.39.39.9.59 1.41.59.51 0 1.02-.2 1.41-.59l7.78-7.78 2.81-2.81c.8-.78.8-2.07 0-2.86zM5.41 20L4 18.59l7.72-7.72 1.47 1.35L5.41 20z\"/>\n",
       "  </svg>\n",
       "      </button>\n",
       "      \n",
       "  <style>\n",
       "    .colab-df-container {\n",
       "      display:flex;\n",
       "      flex-wrap:wrap;\n",
       "      gap: 12px;\n",
       "    }\n",
       "\n",
       "    .colab-df-convert {\n",
       "      background-color: #E8F0FE;\n",
       "      border: none;\n",
       "      border-radius: 50%;\n",
       "      cursor: pointer;\n",
       "      display: none;\n",
       "      fill: #1967D2;\n",
       "      height: 32px;\n",
       "      padding: 0 0 0 0;\n",
       "      width: 32px;\n",
       "    }\n",
       "\n",
       "    .colab-df-convert:hover {\n",
       "      background-color: #E2EBFA;\n",
       "      box-shadow: 0px 1px 2px rgba(60, 64, 67, 0.3), 0px 1px 3px 1px rgba(60, 64, 67, 0.15);\n",
       "      fill: #174EA6;\n",
       "    }\n",
       "\n",
       "    [theme=dark] .colab-df-convert {\n",
       "      background-color: #3B4455;\n",
       "      fill: #D2E3FC;\n",
       "    }\n",
       "\n",
       "    [theme=dark] .colab-df-convert:hover {\n",
       "      background-color: #434B5C;\n",
       "      box-shadow: 0px 1px 3px 1px rgba(0, 0, 0, 0.15);\n",
       "      filter: drop-shadow(0px 1px 2px rgba(0, 0, 0, 0.3));\n",
       "      fill: #FFFFFF;\n",
       "    }\n",
       "  </style>\n",
       "\n",
       "      <script>\n",
       "        const buttonEl =\n",
       "          document.querySelector('#df-48575933-3423-4a44-a365-b511537e9c5b button.colab-df-convert');\n",
       "        buttonEl.style.display =\n",
       "          google.colab.kernel.accessAllowed ? 'block' : 'none';\n",
       "\n",
       "        async function convertToInteractive(key) {\n",
       "          const element = document.querySelector('#df-48575933-3423-4a44-a365-b511537e9c5b');\n",
       "          const dataTable =\n",
       "            await google.colab.kernel.invokeFunction('convertToInteractive',\n",
       "                                                     [key], {});\n",
       "          if (!dataTable) return;\n",
       "\n",
       "          const docLinkHtml = 'Like what you see? Visit the ' +\n",
       "            '<a target=\"_blank\" href=https://colab.research.google.com/notebooks/data_table.ipynb>data table notebook</a>'\n",
       "            + ' to learn more about interactive tables.';\n",
       "          element.innerHTML = '';\n",
       "          dataTable['output_type'] = 'display_data';\n",
       "          await google.colab.output.renderOutput(dataTable, element);\n",
       "          const docLink = document.createElement('div');\n",
       "          docLink.innerHTML = docLinkHtml;\n",
       "          element.appendChild(docLink);\n",
       "        }\n",
       "      </script>\n",
       "    </div>\n",
       "  </div>\n",
       "  "
      ],
      "text/plain": [
       "                id  predictions_DOCTORS  predictions_FAMILY  \\\n",
       "0  Endo_otb0m_post                    0                   0   \n",
       "\n",
       "   predictions_ENDO SUPPORT COMMUNITY  predictions_PARTNER  \n",
       "0                                   5                    0  "
      ]
     },
     "execution_count": 6,
     "metadata": {},
     "output_type": "execute_result"
    }
   ],
   "source": [
    "# load file with personas predictions\n",
    "personas_file = os.path.join(endo_dir, 'output', 'predictions', 'PERSONAS', 'personas_predictions.pkl')\n",
    "personas = pd.read_pickle(personas_file)\n",
    "\n",
    "# group by where the paragraph is from\n",
    "personas['og_id'] = ['_'.join(x.split('_')[:3]) for x in personas.id]\n",
    "\n",
    "#select only those in from posts\n",
    "personas_posts = personas.loc[personas['type'] == 'post']\n",
    "\n",
    "#group by post id\n",
    "personas_posts = personas_posts.groupby(['og_id'], sort=False).sum().reset_index().rename(columns = {\"og_id\":\"id\"}).drop(columns=['created_utc'])\n",
    "print(len(personas_posts))\n",
    "personas_posts[:1]"
   ]
  },
  {
   "cell_type": "code",
   "execution_count": null,
   "metadata": {
    "colab": {
     "base_uri": "https://localhost:8080/",
     "height": 209
    },
    "executionInfo": {
     "elapsed": 3612,
     "status": "ok",
     "timestamp": 1673360003886,
     "user": {
      "displayName": "Federica Bologna",
      "userId": "16530074403271623482"
     },
     "user_tz": -60
    },
    "id": "swqA-mpqVYWO",
    "outputId": "236ea503-761d-4903-866a-e11ef0db8bd4"
   },
   "outputs": [
    {
     "name": "stdout",
     "output_type": "stream",
     "text": [
      "34190\n"
     ]
    },
    {
     "data": {
      "text/html": [
       "\n",
       "  <div id=\"df-89e67e3e-d9ce-4596-b655-4c0580423d11\">\n",
       "    <div class=\"colab-df-container\">\n",
       "      <div>\n",
       "<style scoped>\n",
       "    .dataframe tbody tr th:only-of-type {\n",
       "        vertical-align: middle;\n",
       "    }\n",
       "\n",
       "    .dataframe tbody tr th {\n",
       "        vertical-align: top;\n",
       "    }\n",
       "\n",
       "    .dataframe thead th {\n",
       "        text-align: right;\n",
       "    }\n",
       "</style>\n",
       "<table border=\"1\" class=\"dataframe\">\n",
       "  <thead>\n",
       "    <tr style=\"text-align: right;\">\n",
       "      <th></th>\n",
       "      <th>id</th>\n",
       "      <th>Topic 0</th>\n",
       "      <th>Topic 1</th>\n",
       "      <th>Topic 2</th>\n",
       "      <th>Topic 3</th>\n",
       "      <th>Topic 4</th>\n",
       "      <th>Topic 5</th>\n",
       "      <th>Topic 6</th>\n",
       "      <th>Topic 7</th>\n",
       "      <th>Topic 8</th>\n",
       "      <th>...</th>\n",
       "      <th>Topic 15</th>\n",
       "      <th>Topic 16</th>\n",
       "      <th>Topic 17</th>\n",
       "      <th>Topic 18</th>\n",
       "      <th>Topic 19</th>\n",
       "      <th>Topic 20</th>\n",
       "      <th>Topic 21</th>\n",
       "      <th>Topic 22</th>\n",
       "      <th>Topic 23</th>\n",
       "      <th>Topic 24</th>\n",
       "    </tr>\n",
       "  </thead>\n",
       "  <tbody>\n",
       "    <tr>\n",
       "      <th>0</th>\n",
       "      <td>Endo_otb0m_post</td>\n",
       "      <td>0.002148</td>\n",
       "      <td>0.004427</td>\n",
       "      <td>0.084569</td>\n",
       "      <td>0.002483</td>\n",
       "      <td>0.004032</td>\n",
       "      <td>0.005094</td>\n",
       "      <td>0.198672</td>\n",
       "      <td>0.051963</td>\n",
       "      <td>0.00399</td>\n",
       "      <td>...</td>\n",
       "      <td>0.002933</td>\n",
       "      <td>0.457867</td>\n",
       "      <td>0.003799</td>\n",
       "      <td>0.00451</td>\n",
       "      <td>0.002562</td>\n",
       "      <td>0.034702</td>\n",
       "      <td>0.005111</td>\n",
       "      <td>0.002024</td>\n",
       "      <td>0.003314</td>\n",
       "      <td>0.005033</td>\n",
       "    </tr>\n",
       "  </tbody>\n",
       "</table>\n",
       "<p>1 rows × 26 columns</p>\n",
       "</div>\n",
       "      <button class=\"colab-df-convert\" onclick=\"convertToInteractive('df-89e67e3e-d9ce-4596-b655-4c0580423d11')\"\n",
       "              title=\"Convert this dataframe to an interactive table.\"\n",
       "              style=\"display:none;\">\n",
       "        \n",
       "  <svg xmlns=\"http://www.w3.org/2000/svg\" height=\"24px\"viewBox=\"0 0 24 24\"\n",
       "       width=\"24px\">\n",
       "    <path d=\"M0 0h24v24H0V0z\" fill=\"none\"/>\n",
       "    <path d=\"M18.56 5.44l.94 2.06.94-2.06 2.06-.94-2.06-.94-.94-2.06-.94 2.06-2.06.94zm-11 1L8.5 8.5l.94-2.06 2.06-.94-2.06-.94L8.5 2.5l-.94 2.06-2.06.94zm10 10l.94 2.06.94-2.06 2.06-.94-2.06-.94-.94-2.06-.94 2.06-2.06.94z\"/><path d=\"M17.41 7.96l-1.37-1.37c-.4-.4-.92-.59-1.43-.59-.52 0-1.04.2-1.43.59L10.3 9.45l-7.72 7.72c-.78.78-.78 2.05 0 2.83L4 21.41c.39.39.9.59 1.41.59.51 0 1.02-.2 1.41-.59l7.78-7.78 2.81-2.81c.8-.78.8-2.07 0-2.86zM5.41 20L4 18.59l7.72-7.72 1.47 1.35L5.41 20z\"/>\n",
       "  </svg>\n",
       "      </button>\n",
       "      \n",
       "  <style>\n",
       "    .colab-df-container {\n",
       "      display:flex;\n",
       "      flex-wrap:wrap;\n",
       "      gap: 12px;\n",
       "    }\n",
       "\n",
       "    .colab-df-convert {\n",
       "      background-color: #E8F0FE;\n",
       "      border: none;\n",
       "      border-radius: 50%;\n",
       "      cursor: pointer;\n",
       "      display: none;\n",
       "      fill: #1967D2;\n",
       "      height: 32px;\n",
       "      padding: 0 0 0 0;\n",
       "      width: 32px;\n",
       "    }\n",
       "\n",
       "    .colab-df-convert:hover {\n",
       "      background-color: #E2EBFA;\n",
       "      box-shadow: 0px 1px 2px rgba(60, 64, 67, 0.3), 0px 1px 3px 1px rgba(60, 64, 67, 0.15);\n",
       "      fill: #174EA6;\n",
       "    }\n",
       "\n",
       "    [theme=dark] .colab-df-convert {\n",
       "      background-color: #3B4455;\n",
       "      fill: #D2E3FC;\n",
       "    }\n",
       "\n",
       "    [theme=dark] .colab-df-convert:hover {\n",
       "      background-color: #434B5C;\n",
       "      box-shadow: 0px 1px 3px 1px rgba(0, 0, 0, 0.15);\n",
       "      filter: drop-shadow(0px 1px 2px rgba(0, 0, 0, 0.3));\n",
       "      fill: #FFFFFF;\n",
       "    }\n",
       "  </style>\n",
       "\n",
       "      <script>\n",
       "        const buttonEl =\n",
       "          document.querySelector('#df-89e67e3e-d9ce-4596-b655-4c0580423d11 button.colab-df-convert');\n",
       "        buttonEl.style.display =\n",
       "          google.colab.kernel.accessAllowed ? 'block' : 'none';\n",
       "\n",
       "        async function convertToInteractive(key) {\n",
       "          const element = document.querySelector('#df-89e67e3e-d9ce-4596-b655-4c0580423d11');\n",
       "          const dataTable =\n",
       "            await google.colab.kernel.invokeFunction('convertToInteractive',\n",
       "                                                     [key], {});\n",
       "          if (!dataTable) return;\n",
       "\n",
       "          const docLinkHtml = 'Like what you see? Visit the ' +\n",
       "            '<a target=\"_blank\" href=https://colab.research.google.com/notebooks/data_table.ipynb>data table notebook</a>'\n",
       "            + ' to learn more about interactive tables.';\n",
       "          element.innerHTML = '';\n",
       "          dataTable['output_type'] = 'display_data';\n",
       "          await google.colab.output.renderOutput(dataTable, element);\n",
       "          const docLink = document.createElement('div');\n",
       "          docLink.innerHTML = docLinkHtml;\n",
       "          element.appendChild(docLink);\n",
       "        }\n",
       "      </script>\n",
       "    </div>\n",
       "  </div>\n",
       "  "
      ],
      "text/plain": [
       "                id   Topic 0   Topic 1   Topic 2   Topic 3   Topic 4  \\\n",
       "0  Endo_otb0m_post  0.002148  0.004427  0.084569  0.002483  0.004032   \n",
       "\n",
       "    Topic 5   Topic 6   Topic 7  Topic 8  ...  Topic 15  Topic 16  Topic 17  \\\n",
       "0  0.005094  0.198672  0.051963  0.00399  ...  0.002933  0.457867  0.003799   \n",
       "\n",
       "   Topic 18  Topic 19  Topic 20  Topic 21  Topic 22  Topic 23  Topic 24  \n",
       "0   0.00451  0.002562  0.034702  0.005111  0.002024  0.003314  0.005033  \n",
       "\n",
       "[1 rows x 26 columns]"
      ]
     },
     "execution_count": 7,
     "metadata": {},
     "output_type": "execute_result"
    }
   ],
   "source": [
    "#Load topic modeling file\n",
    "topic_model_file = os.path.join(endo_dir, 'output', 'topic-modeling', 'parags', 'endo+endometriosis-25_10.pkl')\n",
    "tomo_df = pd.read_pickle(topic_model_file).reset_index().rename(columns = {\"index\":\"id\"}) # change index into column\n",
    "\n",
    "# add column with info about where the paragraph comes from, whether post or comment\n",
    "tomo_df['og_id'] = ['_'.join(x.split('_')[:3]) for x in tomo_df.id]\n",
    "tomo_df['type'] = [x.split('_')[2] for x in tomo_df.id]\n",
    "\n",
    "# select only those from posts\n",
    "posts_tomo_df = tomo_df.loc[tomo_df['type'] == 'post']\n",
    "\n",
    "# group paragraphs' distributions by the post/comment the paragraph comes from, taking the average of the distributions\n",
    "posts_tomo_df = posts_tomo_df.groupby(['og_id'], sort=False).mean().reset_index().rename(columns = {\"og_id\":\"id\"}).drop(columns=['dominant_topic'])\n",
    "\n",
    "print(len(posts_tomo_df))\n",
    "posts_tomo_df[:1]"
   ]
  },
  {
   "cell_type": "code",
   "execution_count": null,
   "metadata": {
    "colab": {
     "base_uri": "https://localhost:8080/",
     "height": 215
    },
    "executionInfo": {
     "elapsed": 450,
     "status": "ok",
     "timestamp": 1673360004329,
     "user": {
      "displayName": "Federica Bologna",
      "userId": "16530074403271623482"
     },
     "user_tz": -60
    },
    "id": "IqThMJQnN6yQ",
    "outputId": "9b26b74a-5dfb-48ed-b697-7ce153557ab6"
   },
   "outputs": [
    {
     "name": "stdout",
     "output_type": "stream",
     "text": [
      "34715\n"
     ]
    },
    {
     "data": {
      "text/html": [
       "\n",
       "  <div id=\"df-fb5e4b0b-e4a9-40fa-825c-b2a906069a6b\">\n",
       "    <div class=\"colab-df-container\">\n",
       "      <div>\n",
       "<style scoped>\n",
       "    .dataframe tbody tr th:only-of-type {\n",
       "        vertical-align: middle;\n",
       "    }\n",
       "\n",
       "    .dataframe tbody tr th {\n",
       "        vertical-align: top;\n",
       "    }\n",
       "\n",
       "    .dataframe thead th {\n",
       "        text-align: right;\n",
       "    }\n",
       "</style>\n",
       "<table border=\"1\" class=\"dataframe\">\n",
       "  <thead>\n",
       "    <tr style=\"text-align: right;\">\n",
       "      <th></th>\n",
       "      <th>author</th>\n",
       "      <th>id</th>\n",
       "      <th>text</th>\n",
       "      <th>type</th>\n",
       "      <th>url</th>\n",
       "      <th>link_id</th>\n",
       "      <th>parent_id</th>\n",
       "      <th>subreddit</th>\n",
       "      <th>created_utc</th>\n",
       "      <th>time</th>\n",
       "      <th>predictions_SEEKING_EXPERIENCES</th>\n",
       "      <th>predictions_SEEKING_INFO</th>\n",
       "      <th>predictions_SEEKING_EMOTION</th>\n",
       "      <th>predictions_VENT</th>\n",
       "      <th>predictions_PROVIDING_EXPERIENCES</th>\n",
       "    </tr>\n",
       "  </thead>\n",
       "  <tbody>\n",
       "    <tr>\n",
       "      <th>7</th>\n",
       "      <td>theonusta</td>\n",
       "      <td>Endo_otb0m_post</td>\n",
       "      <td>We've been a community of Endometriosis suppor...</td>\n",
       "      <td>post</td>\n",
       "      <td>http://www.reddit.com/r/Endo/comments/otb0m/up...</td>\n",
       "      <td>N/A</td>\n",
       "      <td>N/A</td>\n",
       "      <td>Endo</td>\n",
       "      <td>1327349669</td>\n",
       "      <td>2012-01-23 20:14:29</td>\n",
       "      <td>0</td>\n",
       "      <td>0</td>\n",
       "      <td>0</td>\n",
       "      <td>0</td>\n",
       "      <td>0</td>\n",
       "    </tr>\n",
       "  </tbody>\n",
       "</table>\n",
       "</div>\n",
       "      <button class=\"colab-df-convert\" onclick=\"convertToInteractive('df-fb5e4b0b-e4a9-40fa-825c-b2a906069a6b')\"\n",
       "              title=\"Convert this dataframe to an interactive table.\"\n",
       "              style=\"display:none;\">\n",
       "        \n",
       "  <svg xmlns=\"http://www.w3.org/2000/svg\" height=\"24px\"viewBox=\"0 0 24 24\"\n",
       "       width=\"24px\">\n",
       "    <path d=\"M0 0h24v24H0V0z\" fill=\"none\"/>\n",
       "    <path d=\"M18.56 5.44l.94 2.06.94-2.06 2.06-.94-2.06-.94-.94-2.06-.94 2.06-2.06.94zm-11 1L8.5 8.5l.94-2.06 2.06-.94-2.06-.94L8.5 2.5l-.94 2.06-2.06.94zm10 10l.94 2.06.94-2.06 2.06-.94-2.06-.94-.94-2.06-.94 2.06-2.06.94z\"/><path d=\"M17.41 7.96l-1.37-1.37c-.4-.4-.92-.59-1.43-.59-.52 0-1.04.2-1.43.59L10.3 9.45l-7.72 7.72c-.78.78-.78 2.05 0 2.83L4 21.41c.39.39.9.59 1.41.59.51 0 1.02-.2 1.41-.59l7.78-7.78 2.81-2.81c.8-.78.8-2.07 0-2.86zM5.41 20L4 18.59l7.72-7.72 1.47 1.35L5.41 20z\"/>\n",
       "  </svg>\n",
       "      </button>\n",
       "      \n",
       "  <style>\n",
       "    .colab-df-container {\n",
       "      display:flex;\n",
       "      flex-wrap:wrap;\n",
       "      gap: 12px;\n",
       "    }\n",
       "\n",
       "    .colab-df-convert {\n",
       "      background-color: #E8F0FE;\n",
       "      border: none;\n",
       "      border-radius: 50%;\n",
       "      cursor: pointer;\n",
       "      display: none;\n",
       "      fill: #1967D2;\n",
       "      height: 32px;\n",
       "      padding: 0 0 0 0;\n",
       "      width: 32px;\n",
       "    }\n",
       "\n",
       "    .colab-df-convert:hover {\n",
       "      background-color: #E2EBFA;\n",
       "      box-shadow: 0px 1px 2px rgba(60, 64, 67, 0.3), 0px 1px 3px 1px rgba(60, 64, 67, 0.15);\n",
       "      fill: #174EA6;\n",
       "    }\n",
       "\n",
       "    [theme=dark] .colab-df-convert {\n",
       "      background-color: #3B4455;\n",
       "      fill: #D2E3FC;\n",
       "    }\n",
       "\n",
       "    [theme=dark] .colab-df-convert:hover {\n",
       "      background-color: #434B5C;\n",
       "      box-shadow: 0px 1px 3px 1px rgba(0, 0, 0, 0.15);\n",
       "      filter: drop-shadow(0px 1px 2px rgba(0, 0, 0, 0.3));\n",
       "      fill: #FFFFFF;\n",
       "    }\n",
       "  </style>\n",
       "\n",
       "      <script>\n",
       "        const buttonEl =\n",
       "          document.querySelector('#df-fb5e4b0b-e4a9-40fa-825c-b2a906069a6b button.colab-df-convert');\n",
       "        buttonEl.style.display =\n",
       "          google.colab.kernel.accessAllowed ? 'block' : 'none';\n",
       "\n",
       "        async function convertToInteractive(key) {\n",
       "          const element = document.querySelector('#df-fb5e4b0b-e4a9-40fa-825c-b2a906069a6b');\n",
       "          const dataTable =\n",
       "            await google.colab.kernel.invokeFunction('convertToInteractive',\n",
       "                                                     [key], {});\n",
       "          if (!dataTable) return;\n",
       "\n",
       "          const docLinkHtml = 'Like what you see? Visit the ' +\n",
       "            '<a target=\"_blank\" href=https://colab.research.google.com/notebooks/data_table.ipynb>data table notebook</a>'\n",
       "            + ' to learn more about interactive tables.';\n",
       "          element.innerHTML = '';\n",
       "          dataTable['output_type'] = 'display_data';\n",
       "          await google.colab.output.renderOutput(dataTable, element);\n",
       "          const docLink = document.createElement('div');\n",
       "          docLink.innerHTML = docLinkHtml;\n",
       "          element.appendChild(docLink);\n",
       "        }\n",
       "      </script>\n",
       "    </div>\n",
       "  </div>\n",
       "  "
      ],
      "text/plain": [
       "      author               id  \\\n",
       "7  theonusta  Endo_otb0m_post   \n",
       "\n",
       "                                                text  type  \\\n",
       "7  We've been a community of Endometriosis suppor...  post   \n",
       "\n",
       "                                                 url link_id parent_id  \\\n",
       "7  http://www.reddit.com/r/Endo/comments/otb0m/up...     N/A       N/A   \n",
       "\n",
       "  subreddit  created_utc                time  predictions_SEEKING_EXPERIENCES  \\\n",
       "7      Endo   1327349669 2012-01-23 20:14:29                                0   \n",
       "\n",
       "   predictions_SEEKING_INFO  predictions_SEEKING_EMOTION  predictions_VENT  \\\n",
       "7                         0                            0                 0   \n",
       "\n",
       "   predictions_PROVIDING_EXPERIENCES  \n",
       "7                                  0  "
      ]
     },
     "execution_count": 8,
     "metadata": {},
     "output_type": "execute_result"
    }
   ],
   "source": [
    "intent_file = os.path.join(endo_dir, 'output', 'predictions', 'INTENT', 'intent_predictions.pkl')\n",
    "intent = pd.read_pickle(intent_file)\n",
    "print(len(intent))\n",
    "intent[:1]"
   ]
  },
  {
   "cell_type": "markdown",
   "metadata": {
    "id": "mOgOaCdSZOUm"
   },
   "source": [
    "### Transform topic distributions to z-scores and add to the predictions"
   ]
  },
  {
   "cell_type": "code",
   "execution_count": null,
   "metadata": {
    "colab": {
     "base_uri": "https://localhost:8080/",
     "height": 191
    },
    "executionInfo": {
     "elapsed": 16,
     "status": "ok",
     "timestamp": 1673360004330,
     "user": {
      "displayName": "Federica Bologna",
      "userId": "16530074403271623482"
     },
     "user_tz": -60
    },
    "id": "GGcBcwiG6oar",
    "outputId": "fe84d591-a6de-46c4-8572-528043ffa70c"
   },
   "outputs": [
    {
     "data": {
      "text/html": [
       "\n",
       "  <div id=\"df-cc391c5a-dd63-406b-bf80-1edc597a287e\">\n",
       "    <div class=\"colab-df-container\">\n",
       "      <div>\n",
       "<style scoped>\n",
       "    .dataframe tbody tr th:only-of-type {\n",
       "        vertical-align: middle;\n",
       "    }\n",
       "\n",
       "    .dataframe tbody tr th {\n",
       "        vertical-align: top;\n",
       "    }\n",
       "\n",
       "    .dataframe thead th {\n",
       "        text-align: right;\n",
       "    }\n",
       "</style>\n",
       "<table border=\"1\" class=\"dataframe\">\n",
       "  <thead>\n",
       "    <tr style=\"text-align: right;\">\n",
       "      <th></th>\n",
       "      <th>id</th>\n",
       "      <th>Topic 0</th>\n",
       "      <th>Topic 1</th>\n",
       "      <th>Topic 2</th>\n",
       "      <th>Topic 3</th>\n",
       "      <th>Topic 4</th>\n",
       "      <th>Topic 5</th>\n",
       "      <th>Topic 6</th>\n",
       "      <th>Topic 7</th>\n",
       "      <th>Topic 8</th>\n",
       "      <th>...</th>\n",
       "      <th>Topic 15</th>\n",
       "      <th>Topic 16</th>\n",
       "      <th>Topic 17</th>\n",
       "      <th>Topic 18</th>\n",
       "      <th>Topic 19</th>\n",
       "      <th>Topic 20</th>\n",
       "      <th>Topic 21</th>\n",
       "      <th>Topic 22</th>\n",
       "      <th>Topic 23</th>\n",
       "      <th>Topic 24</th>\n",
       "    </tr>\n",
       "  </thead>\n",
       "  <tbody>\n",
       "    <tr>\n",
       "      <th>0</th>\n",
       "      <td>Endo_otb0m_post</td>\n",
       "      <td>-0.23168</td>\n",
       "      <td>-0.387125</td>\n",
       "      <td>0.468209</td>\n",
       "      <td>-0.252115</td>\n",
       "      <td>-0.372082</td>\n",
       "      <td>-0.5427</td>\n",
       "      <td>2.547604</td>\n",
       "      <td>-0.02203</td>\n",
       "      <td>-0.346507</td>\n",
       "      <td>...</td>\n",
       "      <td>-0.243485</td>\n",
       "      <td>3.552453</td>\n",
       "      <td>-0.38399</td>\n",
       "      <td>-0.439752</td>\n",
       "      <td>-0.217652</td>\n",
       "      <td>-0.396432</td>\n",
       "      <td>-0.541009</td>\n",
       "      <td>-0.206036</td>\n",
       "      <td>-0.329309</td>\n",
       "      <td>-0.352841</td>\n",
       "    </tr>\n",
       "  </tbody>\n",
       "</table>\n",
       "<p>1 rows × 26 columns</p>\n",
       "</div>\n",
       "      <button class=\"colab-df-convert\" onclick=\"convertToInteractive('df-cc391c5a-dd63-406b-bf80-1edc597a287e')\"\n",
       "              title=\"Convert this dataframe to an interactive table.\"\n",
       "              style=\"display:none;\">\n",
       "        \n",
       "  <svg xmlns=\"http://www.w3.org/2000/svg\" height=\"24px\"viewBox=\"0 0 24 24\"\n",
       "       width=\"24px\">\n",
       "    <path d=\"M0 0h24v24H0V0z\" fill=\"none\"/>\n",
       "    <path d=\"M18.56 5.44l.94 2.06.94-2.06 2.06-.94-2.06-.94-.94-2.06-.94 2.06-2.06.94zm-11 1L8.5 8.5l.94-2.06 2.06-.94-2.06-.94L8.5 2.5l-.94 2.06-2.06.94zm10 10l.94 2.06.94-2.06 2.06-.94-2.06-.94-.94-2.06-.94 2.06-2.06.94z\"/><path d=\"M17.41 7.96l-1.37-1.37c-.4-.4-.92-.59-1.43-.59-.52 0-1.04.2-1.43.59L10.3 9.45l-7.72 7.72c-.78.78-.78 2.05 0 2.83L4 21.41c.39.39.9.59 1.41.59.51 0 1.02-.2 1.41-.59l7.78-7.78 2.81-2.81c.8-.78.8-2.07 0-2.86zM5.41 20L4 18.59l7.72-7.72 1.47 1.35L5.41 20z\"/>\n",
       "  </svg>\n",
       "      </button>\n",
       "      \n",
       "  <style>\n",
       "    .colab-df-container {\n",
       "      display:flex;\n",
       "      flex-wrap:wrap;\n",
       "      gap: 12px;\n",
       "    }\n",
       "\n",
       "    .colab-df-convert {\n",
       "      background-color: #E8F0FE;\n",
       "      border: none;\n",
       "      border-radius: 50%;\n",
       "      cursor: pointer;\n",
       "      display: none;\n",
       "      fill: #1967D2;\n",
       "      height: 32px;\n",
       "      padding: 0 0 0 0;\n",
       "      width: 32px;\n",
       "    }\n",
       "\n",
       "    .colab-df-convert:hover {\n",
       "      background-color: #E2EBFA;\n",
       "      box-shadow: 0px 1px 2px rgba(60, 64, 67, 0.3), 0px 1px 3px 1px rgba(60, 64, 67, 0.15);\n",
       "      fill: #174EA6;\n",
       "    }\n",
       "\n",
       "    [theme=dark] .colab-df-convert {\n",
       "      background-color: #3B4455;\n",
       "      fill: #D2E3FC;\n",
       "    }\n",
       "\n",
       "    [theme=dark] .colab-df-convert:hover {\n",
       "      background-color: #434B5C;\n",
       "      box-shadow: 0px 1px 3px 1px rgba(0, 0, 0, 0.15);\n",
       "      filter: drop-shadow(0px 1px 2px rgba(0, 0, 0, 0.3));\n",
       "      fill: #FFFFFF;\n",
       "    }\n",
       "  </style>\n",
       "\n",
       "      <script>\n",
       "        const buttonEl =\n",
       "          document.querySelector('#df-cc391c5a-dd63-406b-bf80-1edc597a287e button.colab-df-convert');\n",
       "        buttonEl.style.display =\n",
       "          google.colab.kernel.accessAllowed ? 'block' : 'none';\n",
       "\n",
       "        async function convertToInteractive(key) {\n",
       "          const element = document.querySelector('#df-cc391c5a-dd63-406b-bf80-1edc597a287e');\n",
       "          const dataTable =\n",
       "            await google.colab.kernel.invokeFunction('convertToInteractive',\n",
       "                                                     [key], {});\n",
       "          if (!dataTable) return;\n",
       "\n",
       "          const docLinkHtml = 'Like what you see? Visit the ' +\n",
       "            '<a target=\"_blank\" href=https://colab.research.google.com/notebooks/data_table.ipynb>data table notebook</a>'\n",
       "            + ' to learn more about interactive tables.';\n",
       "          element.innerHTML = '';\n",
       "          dataTable['output_type'] = 'display_data';\n",
       "          await google.colab.output.renderOutput(dataTable, element);\n",
       "          const docLink = document.createElement('div');\n",
       "          docLink.innerHTML = docLinkHtml;\n",
       "          element.appendChild(docLink);\n",
       "        }\n",
       "      </script>\n",
       "    </div>\n",
       "  </div>\n",
       "  "
      ],
      "text/plain": [
       "                id  Topic 0   Topic 1   Topic 2   Topic 3   Topic 4  Topic 5  \\\n",
       "0  Endo_otb0m_post -0.23168 -0.387125  0.468209 -0.252115 -0.372082  -0.5427   \n",
       "\n",
       "    Topic 6  Topic 7   Topic 8  ...  Topic 15  Topic 16  Topic 17  Topic 18  \\\n",
       "0  2.547604 -0.02203 -0.346507  ... -0.243485  3.552453  -0.38399 -0.439752   \n",
       "\n",
       "   Topic 19  Topic 20  Topic 21  Topic 22  Topic 23  Topic 24  \n",
       "0 -0.217652 -0.396432 -0.541009 -0.206036 -0.329309 -0.352841  \n",
       "\n",
       "[1 rows x 26 columns]"
      ]
     },
     "execution_count": 9,
     "metadata": {},
     "output_type": "execute_result"
    }
   ],
   "source": [
    "posts_zscores = posts_tomo_df.copy()\n",
    "cols = list(posts_zscores.columns[1:26])\n",
    "# get z scores for each topic column\n",
    "for col in cols:\n",
    "  posts_zscores[col] = stats.zscore(posts_zscores[col])\n",
    "posts_zscores[:1]"
   ]
  },
  {
   "cell_type": "code",
   "execution_count": null,
   "metadata": {
    "colab": {
     "base_uri": "https://localhost:8080/",
     "height": 245
    },
    "executionInfo": {
     "elapsed": 14,
     "status": "ok",
     "timestamp": 1673360004330,
     "user": {
      "displayName": "Federica Bologna",
      "userId": "16530074403271623482"
     },
     "user_tz": -60
    },
    "id": "sA8XHUoF4PLo",
    "outputId": "e92dd404-fb55-4bcb-a9b6-5841b0247cd0"
   },
   "outputs": [
    {
     "name": "stdout",
     "output_type": "stream",
     "text": [
      "Length df after merge: 34190\n",
      "Length df after merge: 34190\n"
     ]
    },
    {
     "data": {
      "text/html": [
       "\n",
       "  <div id=\"df-2c7d50ba-caa5-41fd-a7c5-f43d08dc33ea\">\n",
       "    <div class=\"colab-df-container\">\n",
       "      <div>\n",
       "<style scoped>\n",
       "    .dataframe tbody tr th:only-of-type {\n",
       "        vertical-align: middle;\n",
       "    }\n",
       "\n",
       "    .dataframe tbody tr th {\n",
       "        vertical-align: top;\n",
       "    }\n",
       "\n",
       "    .dataframe thead th {\n",
       "        text-align: right;\n",
       "    }\n",
       "</style>\n",
       "<table border=\"1\" class=\"dataframe\">\n",
       "  <thead>\n",
       "    <tr style=\"text-align: right;\">\n",
       "      <th></th>\n",
       "      <th>id</th>\n",
       "      <th>predictions_SEEKING_EXPERIENCES</th>\n",
       "      <th>predictions_SEEKING_INFO</th>\n",
       "      <th>predictions_SEEKING_EMOTION</th>\n",
       "      <th>predictions_VENT</th>\n",
       "      <th>predictions_DOCTORS</th>\n",
       "      <th>predictions_FAMILY</th>\n",
       "      <th>predictions_ENDO SUPPORT COMMUNITY</th>\n",
       "      <th>predictions_PARTNER</th>\n",
       "      <th>Topic 0</th>\n",
       "      <th>...</th>\n",
       "      <th>Topic 15</th>\n",
       "      <th>Topic 16</th>\n",
       "      <th>Topic 17</th>\n",
       "      <th>Topic 18</th>\n",
       "      <th>Topic 19</th>\n",
       "      <th>Topic 20</th>\n",
       "      <th>Topic 21</th>\n",
       "      <th>Topic 22</th>\n",
       "      <th>Topic 23</th>\n",
       "      <th>Topic 24</th>\n",
       "    </tr>\n",
       "  </thead>\n",
       "  <tbody>\n",
       "    <tr>\n",
       "      <th>0</th>\n",
       "      <td>Endo_otb0m_post</td>\n",
       "      <td>0</td>\n",
       "      <td>0</td>\n",
       "      <td>0</td>\n",
       "      <td>0</td>\n",
       "      <td>0</td>\n",
       "      <td>0</td>\n",
       "      <td>5</td>\n",
       "      <td>0</td>\n",
       "      <td>-0.23168</td>\n",
       "      <td>...</td>\n",
       "      <td>-0.243485</td>\n",
       "      <td>3.552453</td>\n",
       "      <td>-0.38399</td>\n",
       "      <td>-0.439752</td>\n",
       "      <td>-0.217652</td>\n",
       "      <td>-0.396432</td>\n",
       "      <td>-0.541009</td>\n",
       "      <td>-0.206036</td>\n",
       "      <td>-0.329309</td>\n",
       "      <td>-0.352841</td>\n",
       "    </tr>\n",
       "  </tbody>\n",
       "</table>\n",
       "<p>1 rows × 34 columns</p>\n",
       "</div>\n",
       "      <button class=\"colab-df-convert\" onclick=\"convertToInteractive('df-2c7d50ba-caa5-41fd-a7c5-f43d08dc33ea')\"\n",
       "              title=\"Convert this dataframe to an interactive table.\"\n",
       "              style=\"display:none;\">\n",
       "        \n",
       "  <svg xmlns=\"http://www.w3.org/2000/svg\" height=\"24px\"viewBox=\"0 0 24 24\"\n",
       "       width=\"24px\">\n",
       "    <path d=\"M0 0h24v24H0V0z\" fill=\"none\"/>\n",
       "    <path d=\"M18.56 5.44l.94 2.06.94-2.06 2.06-.94-2.06-.94-.94-2.06-.94 2.06-2.06.94zm-11 1L8.5 8.5l.94-2.06 2.06-.94-2.06-.94L8.5 2.5l-.94 2.06-2.06.94zm10 10l.94 2.06.94-2.06 2.06-.94-2.06-.94-.94-2.06-.94 2.06-2.06.94z\"/><path d=\"M17.41 7.96l-1.37-1.37c-.4-.4-.92-.59-1.43-.59-.52 0-1.04.2-1.43.59L10.3 9.45l-7.72 7.72c-.78.78-.78 2.05 0 2.83L4 21.41c.39.39.9.59 1.41.59.51 0 1.02-.2 1.41-.59l7.78-7.78 2.81-2.81c.8-.78.8-2.07 0-2.86zM5.41 20L4 18.59l7.72-7.72 1.47 1.35L5.41 20z\"/>\n",
       "  </svg>\n",
       "      </button>\n",
       "      \n",
       "  <style>\n",
       "    .colab-df-container {\n",
       "      display:flex;\n",
       "      flex-wrap:wrap;\n",
       "      gap: 12px;\n",
       "    }\n",
       "\n",
       "    .colab-df-convert {\n",
       "      background-color: #E8F0FE;\n",
       "      border: none;\n",
       "      border-radius: 50%;\n",
       "      cursor: pointer;\n",
       "      display: none;\n",
       "      fill: #1967D2;\n",
       "      height: 32px;\n",
       "      padding: 0 0 0 0;\n",
       "      width: 32px;\n",
       "    }\n",
       "\n",
       "    .colab-df-convert:hover {\n",
       "      background-color: #E2EBFA;\n",
       "      box-shadow: 0px 1px 2px rgba(60, 64, 67, 0.3), 0px 1px 3px 1px rgba(60, 64, 67, 0.15);\n",
       "      fill: #174EA6;\n",
       "    }\n",
       "\n",
       "    [theme=dark] .colab-df-convert {\n",
       "      background-color: #3B4455;\n",
       "      fill: #D2E3FC;\n",
       "    }\n",
       "\n",
       "    [theme=dark] .colab-df-convert:hover {\n",
       "      background-color: #434B5C;\n",
       "      box-shadow: 0px 1px 3px 1px rgba(0, 0, 0, 0.15);\n",
       "      filter: drop-shadow(0px 1px 2px rgba(0, 0, 0, 0.3));\n",
       "      fill: #FFFFFF;\n",
       "    }\n",
       "  </style>\n",
       "\n",
       "      <script>\n",
       "        const buttonEl =\n",
       "          document.querySelector('#df-2c7d50ba-caa5-41fd-a7c5-f43d08dc33ea button.colab-df-convert');\n",
       "        buttonEl.style.display =\n",
       "          google.colab.kernel.accessAllowed ? 'block' : 'none';\n",
       "\n",
       "        async function convertToInteractive(key) {\n",
       "          const element = document.querySelector('#df-2c7d50ba-caa5-41fd-a7c5-f43d08dc33ea');\n",
       "          const dataTable =\n",
       "            await google.colab.kernel.invokeFunction('convertToInteractive',\n",
       "                                                     [key], {});\n",
       "          if (!dataTable) return;\n",
       "\n",
       "          const docLinkHtml = 'Like what you see? Visit the ' +\n",
       "            '<a target=\"_blank\" href=https://colab.research.google.com/notebooks/data_table.ipynb>data table notebook</a>'\n",
       "            + ' to learn more about interactive tables.';\n",
       "          element.innerHTML = '';\n",
       "          dataTable['output_type'] = 'display_data';\n",
       "          await google.colab.output.renderOutput(dataTable, element);\n",
       "          const docLink = document.createElement('div');\n",
       "          docLink.innerHTML = docLinkHtml;\n",
       "          element.appendChild(docLink);\n",
       "        }\n",
       "      </script>\n",
       "    </div>\n",
       "  </div>\n",
       "  "
      ],
      "text/plain": [
       "                id  predictions_SEEKING_EXPERIENCES  predictions_SEEKING_INFO  \\\n",
       "0  Endo_otb0m_post                                0                         0   \n",
       "\n",
       "   predictions_SEEKING_EMOTION  predictions_VENT  predictions_DOCTORS  \\\n",
       "0                            0                 0                    0   \n",
       "\n",
       "   predictions_FAMILY  predictions_ENDO SUPPORT COMMUNITY  \\\n",
       "0                   0                                   5   \n",
       "\n",
       "   predictions_PARTNER  Topic 0  ...  Topic 15  Topic 16  Topic 17  Topic 18  \\\n",
       "0                    0 -0.23168  ... -0.243485  3.552453  -0.38399 -0.439752   \n",
       "\n",
       "   Topic 19  Topic 20  Topic 21  Topic 22  Topic 23  Topic 24  \n",
       "0 -0.217652 -0.396432 -0.541009 -0.206036 -0.329309 -0.352841  \n",
       "\n",
       "[1 rows x 34 columns]"
      ]
     },
     "execution_count": 10,
     "metadata": {},
     "output_type": "execute_result"
    }
   ],
   "source": [
    "big_df = personas_posts.merge(posts_zscores, how = \"right\", left_on = \"id\", right_on = \"id\")\n",
    "print('Length df after merge:', len(big_df))\n",
    "big_df = intent[['id','predictions_SEEKING_EXPERIENCES','predictions_SEEKING_INFO', 'predictions_SEEKING_EMOTION', 'predictions_VENT']].merge(big_df, how = \"right\", left_on = \"id\", right_on = \"id\")\n",
    "print('Length df after merge:', len(big_df))\n",
    "big_df[:1]"
   ]
  },
  {
   "cell_type": "markdown",
   "metadata": {
    "id": "P7F5PKY7Z4z1"
   },
   "source": [
    "## Permutation test 1"
   ]
  },
  {
   "cell_type": "code",
   "execution_count": null,
   "metadata": {
    "id": "VeY31JmCGt3z"
   },
   "outputs": [],
   "source": [
    "def permute(input_array):\n",
    "  # shuffle is inplace, so copy to preserve input\n",
    "  permuted = input_array.copy().values  # convert to numpy array, avoiding warning\n",
    "  np.random.shuffle(permuted)\n",
    "  return permuted  # convert back to pandas\n",
    "\n",
    "def permutation_test(ddf, topic, persona, intent):\n",
    "  col_1 = f'predictions_{persona}' # persona column\n",
    "  col_2 = f'predictions_{intent}' # intent columns\n",
    "  obs_cond = (ddf[col_1] > 0) & (ddf[col_2] == 1) # select posts where there is at least 1 mention of the persona and with the intent\n",
    "  # Difference between the mean of the values in the first half and the mean of the values in the second half of the corpus\n",
    "  obs_mean = ddf.loc[obs_cond][topic].mean() # take the mean topic value in selected posts\n",
    "  print(f'Observed average probability: {obs_mean}')\n",
    "\n",
    "  # Performing 10,000 permutations\n",
    "  for col in [col_1, col_2]: # we select the persona or intent column\n",
    "    print(f'Shuffling: {col}' )\n",
    "    n_permutations = 10000 \n",
    "    flag = 0\n",
    "    for i in range(n_permutations): # for each of the 10,000 times\n",
    "      copy = ddf.copy()  # we copy the original dataframe with the observed data\n",
    "      copy[col] = permute(copy[col]) # we shuffle the selected column (persona or intent)\n",
    "      perm_cond = (copy[col_1] > 0) & (copy[col_2] == 1)\n",
    "      perm_mean = copy.loc[perm_cond][topic].mean()\n",
    "      if perm_mean >= obs_mean:  # we test if the observed topic probability is lower\n",
    "          flag += 1  # we keep count of the number of times the observed difference is larger\n",
    "          # perm.append(perm_mean)\n",
    "    p = flag/n_permutations\n",
    "    print(f'Number of times average is larger than permutated: {flag}')\n",
    "    print(f'P-value: {p}\\n')\n",
    "\n",
    "  #return perm"
   ]
  },
  {
   "cell_type": "markdown",
   "metadata": {
    "id": "Vre8YXDQsK9t"
   },
   "source": [
    "### Empathy"
   ]
  },
  {
   "cell_type": "code",
   "execution_count": null,
   "metadata": {
    "colab": {
     "base_uri": "https://localhost:8080/"
    },
    "executionInfo": {
     "elapsed": 99376,
     "status": "ok",
     "timestamp": 1673354364127,
     "user": {
      "displayName": "Federica Bologna",
      "userId": "16530074403271623482"
     },
     "user_tz": -60
    },
    "id": "gpatJ_FNpPoK",
    "outputId": "29978b79-52ce-401c-e176-b4eb4153db6b"
   },
   "outputs": [
    {
     "name": "stdout",
     "output_type": "stream",
     "text": [
      "Observed average probability: 0.9121054410934448\n",
      "Shuffling: predictions_PARTNER\n",
      "Number of times average is larger than permutated: 0\n",
      "P-value: 0.0\n",
      "\n",
      "Shuffling: predictions_SEEKING_EMOTION\n",
      "Number of times average is larger than permutated: 0\n",
      "P-value: 0.0\n",
      "\n"
     ]
    }
   ],
   "source": [
    "permutation_test(big_df, 'Topic 16', 'PARTNER','SEEKING_EMOTION')"
   ]
  },
  {
   "cell_type": "code",
   "execution_count": null,
   "metadata": {
    "colab": {
     "base_uri": "https://localhost:8080/"
    },
    "executionInfo": {
     "elapsed": 100855,
     "status": "ok",
     "timestamp": 1673354464978,
     "user": {
      "displayName": "Federica Bologna",
      "userId": "16530074403271623482"
     },
     "user_tz": -60
    },
    "id": "S1oShTTtINeL",
    "outputId": "492bc3d7-4176-4cea-9cca-b4e8deeee506"
   },
   "outputs": [
    {
     "name": "stdout",
     "output_type": "stream",
     "text": [
      "Observed average probability: 0.6173312067985535\n",
      "Shuffling: predictions_FAMILY\n",
      "Number of times average is larger than permutated: 35\n",
      "P-value: 0.0035\n",
      "\n",
      "Shuffling: predictions_SEEKING_EMOTION\n",
      "Number of times average is larger than permutated: 0\n",
      "P-value: 0.0\n",
      "\n"
     ]
    }
   ],
   "source": [
    "permutation_test(big_df, 'Topic 16', 'FAMILY','SEEKING_EMOTION')"
   ]
  },
  {
   "cell_type": "code",
   "execution_count": null,
   "metadata": {
    "colab": {
     "base_uri": "https://localhost:8080/"
    },
    "executionInfo": {
     "elapsed": 118318,
     "status": "ok",
     "timestamp": 1673355643500,
     "user": {
      "displayName": "Federica Bologna",
      "userId": "16530074403271623482"
     },
     "user_tz": -60
    },
    "id": "ClZUwT68sKYv",
    "outputId": "f5b52df2-afb7-45b0-e116-d8a9d6e8468f"
   },
   "outputs": [
    {
     "name": "stdout",
     "output_type": "stream",
     "text": [
      "Observed average probability: 0.740861713886261\n",
      "Shuffling: predictions_ENDO SUPPORT COMMUNITY\n",
      "Number of times average is larger than permutated: 0\n",
      "P-value: 0.0\n",
      "\n",
      "Shuffling: predictions_SEEKING_EMOTION\n",
      "Number of times average is larger than permutated: 0\n",
      "P-value: 0.0\n",
      "\n"
     ]
    }
   ],
   "source": [
    "permutation_test(big_df, 'Topic 16', 'ENDO SUPPORT COMMUNITY','SEEKING_EMOTION')"
   ]
  },
  {
   "cell_type": "code",
   "execution_count": null,
   "metadata": {
    "colab": {
     "base_uri": "https://localhost:8080/"
    },
    "executionInfo": {
     "elapsed": 116022,
     "status": "ok",
     "timestamp": 1673355759496,
     "user": {
      "displayName": "Federica Bologna",
      "userId": "16530074403271623482"
     },
     "user_tz": -60
    },
    "id": "VHjiM1SmtC85",
    "outputId": "6d250932-f5c1-4433-a021-ee756e1ebf90"
   },
   "outputs": [
    {
     "name": "stdout",
     "output_type": "stream",
     "text": [
      "Observed average probability: 0.30777016282081604\n",
      "Shuffling: predictions_DOCTORS\n",
      "Number of times average is larger than permutated: 10000\n",
      "P-value: 1.0\n",
      "\n",
      "Shuffling: predictions_SEEKING_EMOTION\n",
      "Number of times average is larger than permutated: 0\n",
      "P-value: 0.0\n",
      "\n"
     ]
    }
   ],
   "source": [
    "permutation_test(big_df, 'Topic 16', 'DOCTORS','SEEKING_EMOTION')"
   ]
  },
  {
   "cell_type": "markdown",
   "metadata": {
    "id": "gq5ej1bRtKkp"
   },
   "source": [
    "### Fertility"
   ]
  },
  {
   "cell_type": "code",
   "execution_count": null,
   "metadata": {
    "colab": {
     "base_uri": "https://localhost:8080/"
    },
    "executionInfo": {
     "elapsed": 108171,
     "status": "ok",
     "timestamp": 1673355867662,
     "user": {
      "displayName": "Federica Bologna",
      "userId": "16530074403271623482"
     },
     "user_tz": -60
    },
    "id": "WFrLBaYrtKOQ",
    "outputId": "792bfad3-6d9a-48d7-acb2-c97bcb564d80"
   },
   "outputs": [
    {
     "name": "stdout",
     "output_type": "stream",
     "text": [
      "Observed average probability: 0.6289975643157959\n",
      "Shuffling: predictions_PARTNER\n",
      "Number of times average is larger than permutated: 0\n",
      "P-value: 0.0\n",
      "\n",
      "Shuffling: predictions_SEEKING_INFO\n",
      "Number of times average is larger than permutated: 11\n",
      "P-value: 0.0011\n",
      "\n"
     ]
    }
   ],
   "source": [
    "permutation_test(big_df, 'Topic 12', 'PARTNER','SEEKING_INFO')"
   ]
  },
  {
   "cell_type": "code",
   "execution_count": null,
   "metadata": {
    "colab": {
     "base_uri": "https://localhost:8080/"
    },
    "executionInfo": {
     "elapsed": 108532,
     "status": "ok",
     "timestamp": 1673355976184,
     "user": {
      "displayName": "Federica Bologna",
      "userId": "16530074403271623482"
     },
     "user_tz": -60
    },
    "id": "Dv3F9ZS1tPLd",
    "outputId": "b5d974f2-b2b0-4011-ff3d-2e36ef5fe4fa"
   },
   "outputs": [
    {
     "name": "stdout",
     "output_type": "stream",
     "text": [
      "Observed average probability: 0.5246304273605347\n",
      "Shuffling: predictions_FAMILY\n",
      "Number of times average is larger than permutated: 0\n",
      "P-value: 0.0\n",
      "\n",
      "Shuffling: predictions_SEEKING_INFO\n",
      "Number of times average is larger than permutated: 8876\n",
      "P-value: 0.8876\n",
      "\n"
     ]
    }
   ],
   "source": [
    "permutation_test(big_df, 'Topic 12', 'FAMILY','SEEKING_INFO')"
   ]
  },
  {
   "cell_type": "code",
   "execution_count": null,
   "metadata": {
    "colab": {
     "base_uri": "https://localhost:8080/"
    },
    "executionInfo": {
     "elapsed": 109901,
     "status": "ok",
     "timestamp": 1673356086060,
     "user": {
      "displayName": "Federica Bologna",
      "userId": "16530074403271623482"
     },
     "user_tz": -60
    },
    "id": "cCLb-OMAtzyz",
    "outputId": "9bbb1d1a-552e-4b7f-af0c-4f4e04f621f7"
   },
   "outputs": [
    {
     "name": "stdout",
     "output_type": "stream",
     "text": [
      "Observed average probability: 0.5774689316749573\n",
      "Shuffling: predictions_PARTNER\n",
      "Number of times average is larger than permutated: 0\n",
      "P-value: 0.0\n",
      "\n",
      "Shuffling: predictions_SEEKING_EXPERIENCES\n",
      "Number of times average is larger than permutated: 34\n",
      "P-value: 0.0034\n",
      "\n"
     ]
    }
   ],
   "source": [
    "permutation_test(big_df, 'Topic 12', 'PARTNER','SEEKING_EXPERIENCES')"
   ]
  },
  {
   "cell_type": "code",
   "execution_count": null,
   "metadata": {
    "colab": {
     "base_uri": "https://localhost:8080/"
    },
    "executionInfo": {
     "elapsed": 113688,
     "status": "ok",
     "timestamp": 1673356199721,
     "user": {
      "displayName": "Federica Bologna",
      "userId": "16530074403271623482"
     },
     "user_tz": -60
    },
    "id": "zzvxXdc1tzy0",
    "outputId": "8fdfb037-c942-42bc-84a7-9aa6ac542a5a"
   },
   "outputs": [
    {
     "name": "stdout",
     "output_type": "stream",
     "text": [
      "Observed average probability: 0.6955799460411072\n",
      "Shuffling: predictions_FAMILY\n",
      "Number of times average is larger than permutated: 0\n",
      "P-value: 0.0\n",
      "\n",
      "Shuffling: predictions_SEEKING_EXPERIENCES\n",
      "Number of times average is larger than permutated: 0\n",
      "P-value: 0.0\n",
      "\n"
     ]
    }
   ],
   "source": [
    "permutation_test(big_df, 'Topic 12', 'FAMILY','SEEKING_EXPERIENCES')"
   ]
  },
  {
   "cell_type": "code",
   "execution_count": null,
   "metadata": {
    "colab": {
     "base_uri": "https://localhost:8080/"
    },
    "executionInfo": {
     "elapsed": 103482,
     "status": "ok",
     "timestamp": 1673356303198,
     "user": {
      "displayName": "Federica Bologna",
      "userId": "16530074403271623482"
     },
     "user_tz": -60
    },
    "id": "lCBFFcp8t0V-",
    "outputId": "fba36fca-b59a-4812-fe73-fd35178f197c"
   },
   "outputs": [
    {
     "name": "stdout",
     "output_type": "stream",
     "text": [
      "Observed average probability: 0.5940772294998169\n",
      "Shuffling: predictions_PARTNER\n",
      "Number of times average is larger than permutated: 0\n",
      "P-value: 0.0\n",
      "\n",
      "Shuffling: predictions_SEEKING_EMOTION\n",
      "Number of times average is larger than permutated: 652\n",
      "P-value: 0.0652\n",
      "\n"
     ]
    }
   ],
   "source": [
    "permutation_test(big_df, 'Topic 12', 'PARTNER','SEEKING_EMOTION')"
   ]
  },
  {
   "cell_type": "code",
   "execution_count": null,
   "metadata": {
    "colab": {
     "base_uri": "https://localhost:8080/"
    },
    "executionInfo": {
     "elapsed": 103949,
     "status": "ok",
     "timestamp": 1673356407143,
     "user": {
      "displayName": "Federica Bologna",
      "userId": "16530074403271623482"
     },
     "user_tz": -60
    },
    "id": "IXwXpnhGt0V-",
    "outputId": "6ca17c7d-9d9e-4b30-ef1c-d00c1f39829a"
   },
   "outputs": [
    {
     "name": "stdout",
     "output_type": "stream",
     "text": [
      "Observed average probability: 0.6920129656791687\n",
      "Shuffling: predictions_FAMILY\n",
      "Number of times average is larger than permutated: 0\n",
      "P-value: 0.0\n",
      "\n",
      "Shuffling: predictions_SEEKING_EMOTION\n",
      "Number of times average is larger than permutated: 52\n",
      "P-value: 0.0052\n",
      "\n"
     ]
    }
   ],
   "source": [
    "permutation_test(big_df, 'Topic 12', 'FAMILY','SEEKING_EMOTION')"
   ]
  },
  {
   "cell_type": "code",
   "execution_count": null,
   "metadata": {
    "colab": {
     "base_uri": "https://localhost:8080/"
    },
    "executionInfo": {
     "elapsed": 106694,
     "status": "ok",
     "timestamp": 1673356513829,
     "user": {
      "displayName": "Federica Bologna",
      "userId": "16530074403271623482"
     },
     "user_tz": -60
    },
    "id": "pNArn_Vrt_xl",
    "outputId": "75010fa9-c2aa-4b02-a2d1-c7e9f706723e"
   },
   "outputs": [
    {
     "name": "stdout",
     "output_type": "stream",
     "text": [
      "Observed average probability: 0.3288821876049042\n",
      "Shuffling: predictions_PARTNER\n",
      "Number of times average is larger than permutated: 0\n",
      "P-value: 0.0\n",
      "\n",
      "Shuffling: predictions_VENT\n",
      "Number of times average is larger than permutated: 9963\n",
      "P-value: 0.9963\n",
      "\n"
     ]
    }
   ],
   "source": [
    "permutation_test(big_df, 'Topic 12', 'PARTNER','VENT')"
   ]
  },
  {
   "cell_type": "code",
   "execution_count": null,
   "metadata": {
    "colab": {
     "base_uri": "https://localhost:8080/"
    },
    "executionInfo": {
     "elapsed": 101034,
     "status": "ok",
     "timestamp": 1673356614838,
     "user": {
      "displayName": "Federica Bologna",
      "userId": "16530074403271623482"
     },
     "user_tz": -60
    },
    "id": "Q2hADAuct_xn",
    "outputId": "f733de47-97ea-4ed1-9781-cedb0e629ca8"
   },
   "outputs": [
    {
     "name": "stdout",
     "output_type": "stream",
     "text": [
      "Observed average probability: 0.4007507562637329\n",
      "Shuffling: predictions_FAMILY\n",
      "Number of times average is larger than permutated: 0\n",
      "P-value: 0.0\n",
      "\n",
      "Shuffling: predictions_VENT\n",
      "Number of times average is larger than permutated: 9969\n",
      "P-value: 0.9969\n",
      "\n"
     ]
    }
   ],
   "source": [
    "permutation_test(big_df, 'Topic 12', 'FAMILY','VENT')"
   ]
  },
  {
   "cell_type": "markdown",
   "metadata": {
    "id": "AW6fZgT4uD8B"
   },
   "source": [
    "### Dismissal and Abuse"
   ]
  },
  {
   "cell_type": "code",
   "execution_count": null,
   "metadata": {
    "colab": {
     "base_uri": "https://localhost:8080/"
    },
    "executionInfo": {
     "elapsed": 116889,
     "status": "ok",
     "timestamp": 1673356731707,
     "user": {
      "displayName": "Federica Bologna",
      "userId": "16530074403271623482"
     },
     "user_tz": -60
    },
    "id": "QPy1xLD4uC5X",
    "outputId": "4642b4ee-e4c5-4919-a11e-c5dc1e7877fd"
   },
   "outputs": [
    {
     "name": "stdout",
     "output_type": "stream",
     "text": [
      "Observed average probability: 0.5280482172966003\n",
      "Shuffling: predictions_DOCTORS\n",
      "Number of times average is larger than permutated: 9996\n",
      "P-value: 0.9996\n",
      "\n",
      "Shuffling: predictions_SEEKING_EMOTION\n",
      "Number of times average is larger than permutated: 0\n",
      "P-value: 0.0\n",
      "\n"
     ]
    }
   ],
   "source": [
    "permutation_test(big_df, 'Topic 7', 'DOCTORS','SEEKING_EMOTION')"
   ]
  },
  {
   "cell_type": "code",
   "execution_count": null,
   "metadata": {
    "colab": {
     "base_uri": "https://localhost:8080/"
    },
    "executionInfo": {
     "elapsed": 109081,
     "status": "ok",
     "timestamp": 1673356840760,
     "user": {
      "displayName": "Federica Bologna",
      "userId": "16530074403271623482"
     },
     "user_tz": -60
    },
    "id": "E8-vxvEjtP4w",
    "outputId": "fa0375a7-8c32-4a14-891c-4241f62ba618"
   },
   "outputs": [
    {
     "name": "stdout",
     "output_type": "stream",
     "text": [
      "Observed average probability: 0.6750293374061584\n",
      "Shuffling: predictions_DOCTORS\n",
      "Number of times average is larger than permutated: 9471\n",
      "P-value: 0.9471\n",
      "\n",
      "Shuffling: predictions_VENT\n",
      "Number of times average is larger than permutated: 0\n",
      "P-value: 0.0\n",
      "\n"
     ]
    }
   ],
   "source": [
    "permutation_test(big_df, 'Topic 7', 'DOCTORS','VENT')"
   ]
  },
  {
   "cell_type": "code",
   "execution_count": null,
   "metadata": {
    "colab": {
     "base_uri": "https://localhost:8080/"
    },
    "executionInfo": {
     "elapsed": 100680,
     "status": "ok",
     "timestamp": 1673356941418,
     "user": {
      "displayName": "Federica Bologna",
      "userId": "16530074403271623482"
     },
     "user_tz": -60
    },
    "id": "UGerSPd_vUbU",
    "outputId": "6a50195f-2504-4f4a-9cf8-2864614c05cd"
   },
   "outputs": [
    {
     "name": "stdout",
     "output_type": "stream",
     "text": [
      "Observed average probability: 0.7107420563697815\n",
      "Shuffling: predictions_FAMILY\n",
      "Number of times average is larger than permutated: 39\n",
      "P-value: 0.0039\n",
      "\n",
      "Shuffling: predictions_SEEKING_EMOTION\n",
      "Number of times average is larger than permutated: 0\n",
      "P-value: 0.0\n",
      "\n"
     ]
    }
   ],
   "source": [
    "permutation_test(big_df, 'Topic 7', 'FAMILY','SEEKING_EMOTION')"
   ]
  },
  {
   "cell_type": "code",
   "execution_count": null,
   "metadata": {
    "colab": {
     "base_uri": "https://localhost:8080/"
    },
    "executionInfo": {
     "elapsed": 92369,
     "status": "ok",
     "timestamp": 1673357033765,
     "user": {
      "displayName": "Federica Bologna",
      "userId": "16530074403271623482"
     },
     "user_tz": -60
    },
    "id": "HbBxCu5evUbU",
    "outputId": "4b695458-6fbd-4b22-83bf-8d92219b9256"
   },
   "outputs": [
    {
     "name": "stdout",
     "output_type": "stream",
     "text": [
      "Observed average probability: 0.9079230427742004\n",
      "Shuffling: predictions_FAMILY\n",
      "Number of times average is larger than permutated: 13\n",
      "P-value: 0.0013\n",
      "\n",
      "Shuffling: predictions_VENT\n",
      "Number of times average is larger than permutated: 0\n",
      "P-value: 0.0\n",
      "\n"
     ]
    }
   ],
   "source": [
    "permutation_test(big_df, 'Topic 7', 'FAMILY','VENT')"
   ]
  },
  {
   "cell_type": "code",
   "execution_count": null,
   "metadata": {
    "colab": {
     "base_uri": "https://localhost:8080/"
    },
    "executionInfo": {
     "elapsed": 96240,
     "status": "ok",
     "timestamp": 1673357130000,
     "user": {
      "displayName": "Federica Bologna",
      "userId": "16530074403271623482"
     },
     "user_tz": -60
    },
    "id": "lNbB6m4WvULp",
    "outputId": "c0782407-75c2-4039-b483-fe762ff366e9"
   },
   "outputs": [
    {
     "name": "stdout",
     "output_type": "stream",
     "text": [
      "Observed average probability: 0.5937626957893372\n",
      "Shuffling: predictions_PARTNER\n",
      "Number of times average is larger than permutated: 4150\n",
      "P-value: 0.415\n",
      "\n",
      "Shuffling: predictions_SEEKING_EMOTION\n",
      "Number of times average is larger than permutated: 0\n",
      "P-value: 0.0\n",
      "\n"
     ]
    }
   ],
   "source": [
    "permutation_test(big_df, 'Topic 7', 'PARTNER','SEEKING_EMOTION')"
   ]
  },
  {
   "cell_type": "code",
   "execution_count": null,
   "metadata": {
    "colab": {
     "base_uri": "https://localhost:8080/"
    },
    "executionInfo": {
     "elapsed": 92931,
     "status": "ok",
     "timestamp": 1673357222908,
     "user": {
      "displayName": "Federica Bologna",
      "userId": "16530074403271623482"
     },
     "user_tz": -60
    },
    "id": "ZG-bgTquvULr",
    "outputId": "b3c75d11-4af7-4636-8b35-5e03bd1fe8f1"
   },
   "outputs": [
    {
     "name": "stdout",
     "output_type": "stream",
     "text": [
      "Observed average probability: 0.7551103234291077\n",
      "Shuffling: predictions_PARTNER\n",
      "Number of times average is larger than permutated: 2654\n",
      "P-value: 0.2654\n",
      "\n",
      "Shuffling: predictions_VENT\n",
      "Number of times average is larger than permutated: 0\n",
      "P-value: 0.0\n",
      "\n"
     ]
    }
   ],
   "source": [
    "permutation_test(big_df, 'Topic 7', 'PARTNER','VENT')"
   ]
  },
  {
   "cell_type": "code",
   "execution_count": null,
   "metadata": {
    "colab": {
     "base_uri": "https://localhost:8080/"
    },
    "executionInfo": {
     "elapsed": 107650,
     "status": "ok",
     "timestamp": 1673357330534,
     "user": {
      "displayName": "Federica Bologna",
      "userId": "16530074403271623482"
     },
     "user_tz": -60
    },
    "id": "4I-7ZXvywnXY",
    "outputId": "b7aeb917-1656-4778-c7d6-d6effd1f3989"
   },
   "outputs": [
    {
     "name": "stdout",
     "output_type": "stream",
     "text": [
      "Observed average probability: 0.4644415080547333\n",
      "Shuffling: predictions_ENDO SUPPORT COMMUNITY\n",
      "Number of times average is larger than permutated: 10000\n",
      "P-value: 1.0\n",
      "\n",
      "Shuffling: predictions_SEEKING_EMOTION\n",
      "Number of times average is larger than permutated: 0\n",
      "P-value: 0.0\n",
      "\n"
     ]
    }
   ],
   "source": [
    "permutation_test(big_df, 'Topic 7', 'ENDO SUPPORT COMMUNITY','SEEKING_EMOTION')"
   ]
  },
  {
   "cell_type": "code",
   "execution_count": null,
   "metadata": {
    "colab": {
     "base_uri": "https://localhost:8080/"
    },
    "executionInfo": {
     "elapsed": 112818,
     "status": "ok",
     "timestamp": 1673357443331,
     "user": {
      "displayName": "Federica Bologna",
      "userId": "16530074403271623482"
     },
     "user_tz": -60
    },
    "id": "m8pxfRpSwnXZ",
    "outputId": "5f86736a-0ac0-45a5-f179-31ec1af618c6"
   },
   "outputs": [
    {
     "name": "stdout",
     "output_type": "stream",
     "text": [
      "Observed average probability: 0.6957864165306091\n",
      "Shuffling: predictions_ENDO SUPPORT COMMUNITY\n",
      "Number of times average is larger than permutated: 8279\n",
      "P-value: 0.8279\n",
      "\n",
      "Shuffling: predictions_VENT\n",
      "Number of times average is larger than permutated: 0\n",
      "P-value: 0.0\n",
      "\n"
     ]
    }
   ],
   "source": [
    "permutation_test(big_df, 'Topic 7', 'ENDO SUPPORT COMMUNITY','VENT')"
   ]
  },
  {
   "cell_type": "markdown",
   "metadata": {
    "id": "avCH8P3a3xjT"
   },
   "source": [
    "## Permutation test 2"
   ]
  },
  {
   "cell_type": "code",
   "execution_count": null,
   "metadata": {
    "id": "WE6z7goDwlM5"
   },
   "outputs": [],
   "source": [
    "def permute(input_array):\n",
    "  # shuffle is inplace, so copy to preserve input\n",
    "  permuted = input_array.copy().values  # convert to numpy array, avoiding warning\n",
    "  np.random.shuffle(permuted)\n",
    "  return permuted  # convert back to pandas\n",
    "\n",
    "def permutation_test2(ddf, topic, persona, intent):\n",
    "  col_1 = f'predictions_{persona}' # persona column\n",
    "  col_2 = f'predictions_{intent}' # intent columns\n",
    "  obs_cond = (ddf[col_1] > 0) & (ddf[col_2] == 1)\n",
    "  # Difference between the mean of the values in the first half and the mean of the values in the second half of the corpus\n",
    "  obs_mean = ddf.loc[obs_cond][topic].mean()\n",
    "  print(f'Observed average probability: {obs_mean}')\n",
    "\n",
    "  # Performing 10,000 permutations\n",
    "  n_permutations = 10000\n",
    "  flag = 0\n",
    "  for i in range(n_permutations):\n",
    "    copy = ddf.copy()  # we copy the original dataframe with the observed data\n",
    "    copy[col_1] = permute(copy[col_1]) # we permute both the persona and intent columns\n",
    "    copy[col_2] = permute(copy[col_2])\n",
    "    perm_cond = (copy[col_1] > 0) & (copy[col_2] == 1)\n",
    "    perm_mean = copy.loc[perm_cond][topic].mean()\n",
    "    if perm_mean >= obs_mean:  # we test if the observed difference is lesser\n",
    "        flag += 1  # we keep count of the number of times the observed difference is larger\n",
    "\n",
    "  p = flag/n_permutations\n",
    "  print(f'Number of times average is larger than permutated: {flag}')\n",
    "  print(f'P-value: {p}\\n')"
   ]
  },
  {
   "cell_type": "markdown",
   "metadata": {
    "id": "SJvDgnuy7yk_"
   },
   "source": [
    "### Empathy"
   ]
  },
  {
   "cell_type": "code",
   "execution_count": null,
   "metadata": {
    "colab": {
     "base_uri": "https://localhost:8080/"
    },
    "executionInfo": {
     "elapsed": 62749,
     "status": "ok",
     "timestamp": 1673358698070,
     "user": {
      "displayName": "Federica Bologna",
      "userId": "16530074403271623482"
     },
     "user_tz": -60
    },
    "id": "JzbM06Ph7ylM",
    "outputId": "2f21015a-2d41-45fe-c918-f4972b195dfb"
   },
   "outputs": [
    {
     "name": "stdout",
     "output_type": "stream",
     "text": [
      "Observed average probability: 0.9121054410934448\n",
      "Number of times average is larger than permutated: 0\n",
      "P-value: 0.0\n",
      "\n"
     ]
    }
   ],
   "source": [
    "#empathy seek emotional support partner\n",
    "permutation_test2(big_df, 'Topic 16', 'PARTNER','SEEKING_EMOTION')"
   ]
  },
  {
   "cell_type": "code",
   "execution_count": null,
   "metadata": {
    "colab": {
     "base_uri": "https://localhost:8080/"
    },
    "executionInfo": {
     "elapsed": 63313,
     "status": "ok",
     "timestamp": 1673358761359,
     "user": {
      "displayName": "Federica Bologna",
      "userId": "16530074403271623482"
     },
     "user_tz": -60
    },
    "id": "XIDBqFGk7ylN",
    "outputId": "d71e0aea-2a8a-42ac-c23c-7e5db988791a"
   },
   "outputs": [
    {
     "name": "stdout",
     "output_type": "stream",
     "text": [
      "Observed average probability: 0.6173312067985535\n",
      "Number of times average is larger than permutated: 0\n",
      "P-value: 0.0\n",
      "\n"
     ]
    }
   ],
   "source": [
    "#empathy seek emotional support family\n",
    "permutation_test2(big_df, 'Topic 16', 'FAMILY','SEEKING_EMOTION')"
   ]
  },
  {
   "cell_type": "code",
   "execution_count": null,
   "metadata": {
    "colab": {
     "base_uri": "https://localhost:8080/"
    },
    "executionInfo": {
     "elapsed": 70353,
     "status": "ok",
     "timestamp": 1673358831687,
     "user": {
      "displayName": "Federica Bologna",
      "userId": "16530074403271623482"
     },
     "user_tz": -60
    },
    "id": "3RBztTBz7ylN",
    "outputId": "67b9f4a3-630d-4bef-c683-6d842c870b01"
   },
   "outputs": [
    {
     "name": "stdout",
     "output_type": "stream",
     "text": [
      "Observed average probability: 0.740861713886261\n",
      "Number of times average is larger than permutated: 0\n",
      "P-value: 0.0\n",
      "\n"
     ]
    }
   ],
   "source": [
    "permutation_test2(big_df, 'Topic 16', 'ENDO SUPPORT COMMUNITY','SEEKING_EMOTION')"
   ]
  },
  {
   "cell_type": "code",
   "execution_count": null,
   "metadata": {
    "colab": {
     "base_uri": "https://localhost:8080/"
    },
    "executionInfo": {
     "elapsed": 67839,
     "status": "ok",
     "timestamp": 1673358899498,
     "user": {
      "displayName": "Federica Bologna",
      "userId": "16530074403271623482"
     },
     "user_tz": -60
    },
    "id": "cEHypAt_7ylN",
    "outputId": "884edce0-78e6-4c4e-df4e-f1eead904112"
   },
   "outputs": [
    {
     "name": "stdout",
     "output_type": "stream",
     "text": [
      "Observed average probability: 0.30777016282081604\n",
      "Number of times average is larger than permutated: 0\n",
      "P-value: 0.0\n",
      "\n"
     ]
    }
   ],
   "source": [
    "permutation_test2(big_df, 'Topic 16', 'DOCTORS','SEEKING_EMOTION')"
   ]
  },
  {
   "cell_type": "markdown",
   "metadata": {
    "id": "Acfm-nag7ylN"
   },
   "source": [
    "### Fertility"
   ]
  },
  {
   "cell_type": "code",
   "execution_count": null,
   "metadata": {
    "colab": {
     "base_uri": "https://localhost:8080/"
    },
    "executionInfo": {
     "elapsed": 63823,
     "status": "ok",
     "timestamp": 1673358963295,
     "user": {
      "displayName": "Federica Bologna",
      "userId": "16530074403271623482"
     },
     "user_tz": -60
    },
    "id": "VqK9ke7g7ylN",
    "outputId": "db50f7b4-cd5a-4b9e-a323-087042ca88a0"
   },
   "outputs": [
    {
     "name": "stdout",
     "output_type": "stream",
     "text": [
      "Observed average probability: 0.6289975643157959\n",
      "Number of times average is larger than permutated: 0\n",
      "P-value: 0.0\n",
      "\n"
     ]
    }
   ],
   "source": [
    "permutation_test2(big_df, 'Topic 12', 'PARTNER','SEEKING_INFO')"
   ]
  },
  {
   "cell_type": "code",
   "execution_count": null,
   "metadata": {
    "colab": {
     "base_uri": "https://localhost:8080/"
    },
    "executionInfo": {
     "elapsed": 65674,
     "status": "ok",
     "timestamp": 1673359028946,
     "user": {
      "displayName": "Federica Bologna",
      "userId": "16530074403271623482"
     },
     "user_tz": -60
    },
    "id": "l0yIpEjy7ylN",
    "outputId": "46ba8e37-0b1c-46ba-f448-9eb96a216bbf"
   },
   "outputs": [
    {
     "name": "stdout",
     "output_type": "stream",
     "text": [
      "Observed average probability: 0.5246304273605347\n",
      "Number of times average is larger than permutated: 0\n",
      "P-value: 0.0\n",
      "\n"
     ]
    }
   ],
   "source": [
    "permutation_test2(big_df, 'Topic 12', 'FAMILY','SEEKING_INFO')"
   ]
  },
  {
   "cell_type": "code",
   "execution_count": null,
   "metadata": {
    "colab": {
     "base_uri": "https://localhost:8080/"
    },
    "executionInfo": {
     "elapsed": 67463,
     "status": "ok",
     "timestamp": 1673359096385,
     "user": {
      "displayName": "Federica Bologna",
      "userId": "16530074403271623482"
     },
     "user_tz": -60
    },
    "id": "EPJASfHU7ylO",
    "outputId": "eddd0562-4e42-4574-84b8-fb8b464c0df3"
   },
   "outputs": [
    {
     "name": "stdout",
     "output_type": "stream",
     "text": [
      "Observed average probability: 0.5774689316749573\n",
      "Number of times average is larger than permutated: 0\n",
      "P-value: 0.0\n",
      "\n"
     ]
    }
   ],
   "source": [
    "permutation_test2(big_df, 'Topic 12', 'PARTNER','SEEKING_EXPERIENCES')"
   ]
  },
  {
   "cell_type": "code",
   "execution_count": null,
   "metadata": {
    "colab": {
     "base_uri": "https://localhost:8080/"
    },
    "executionInfo": {
     "elapsed": 69325,
     "status": "ok",
     "timestamp": 1673359165684,
     "user": {
      "displayName": "Federica Bologna",
      "userId": "16530074403271623482"
     },
     "user_tz": -60
    },
    "id": "u9U_b8vE7ylO",
    "outputId": "d6f296fd-5b1a-4131-c84a-fbeada440dab"
   },
   "outputs": [
    {
     "name": "stdout",
     "output_type": "stream",
     "text": [
      "Observed average probability: 0.6955799460411072\n",
      "Number of times average is larger than permutated: 0\n",
      "P-value: 0.0\n",
      "\n"
     ]
    }
   ],
   "source": [
    "permutation_test2(big_df, 'Topic 12', 'FAMILY','SEEKING_EXPERIENCES')"
   ]
  },
  {
   "cell_type": "code",
   "execution_count": null,
   "metadata": {
    "colab": {
     "base_uri": "https://localhost:8080/"
    },
    "executionInfo": {
     "elapsed": 64520,
     "status": "ok",
     "timestamp": 1673359230180,
     "user": {
      "displayName": "Federica Bologna",
      "userId": "16530074403271623482"
     },
     "user_tz": -60
    },
    "id": "JtHVcmF27ylO",
    "outputId": "8cfe8aa8-444f-4695-dc9a-0233944a76ea"
   },
   "outputs": [
    {
     "name": "stdout",
     "output_type": "stream",
     "text": [
      "Observed average probability: 0.5940772294998169\n",
      "Number of times average is larger than permutated: 0\n",
      "P-value: 0.0\n",
      "\n"
     ]
    }
   ],
   "source": [
    "permutation_test2(big_df, 'Topic 12', 'PARTNER','SEEKING_EMOTION')"
   ]
  },
  {
   "cell_type": "code",
   "execution_count": null,
   "metadata": {
    "colab": {
     "base_uri": "https://localhost:8080/"
    },
    "executionInfo": {
     "elapsed": 65855,
     "status": "ok",
     "timestamp": 1673359296013,
     "user": {
      "displayName": "Federica Bologna",
      "userId": "16530074403271623482"
     },
     "user_tz": -60
    },
    "id": "ZG_tVy497ylO",
    "outputId": "16b37ed1-fc19-401b-ce74-963edbfa5fbd"
   },
   "outputs": [
    {
     "name": "stdout",
     "output_type": "stream",
     "text": [
      "Observed average probability: 0.6920129656791687\n",
      "Number of times average is larger than permutated: 0\n",
      "P-value: 0.0\n",
      "\n"
     ]
    }
   ],
   "source": [
    "permutation_test2(big_df, 'Topic 12', 'FAMILY','SEEKING_EMOTION')"
   ]
  },
  {
   "cell_type": "code",
   "execution_count": null,
   "metadata": {
    "colab": {
     "base_uri": "https://localhost:8080/"
    },
    "executionInfo": {
     "elapsed": 64052,
     "status": "ok",
     "timestamp": 1673360078616,
     "user": {
      "displayName": "Federica Bologna",
      "userId": "16530074403271623482"
     },
     "user_tz": -60
    },
    "id": "MjWhY_Wn7ylO",
    "outputId": "0339214a-a354-4be8-beb5-2c43342c293e"
   },
   "outputs": [
    {
     "name": "stdout",
     "output_type": "stream",
     "text": [
      "Observed average probability: 0.3288821876049042\n",
      "Number of times average is larger than permutated: 0\n",
      "P-value: 0.0\n",
      "\n"
     ]
    }
   ],
   "source": [
    "permutation_test2(big_df, 'Topic 12', 'PARTNER','VENT')"
   ]
  },
  {
   "cell_type": "code",
   "execution_count": null,
   "metadata": {
    "colab": {
     "base_uri": "https://localhost:8080/"
    },
    "executionInfo": {
     "elapsed": 66217,
     "status": "ok",
     "timestamp": 1673360144811,
     "user": {
      "displayName": "Federica Bologna",
      "userId": "16530074403271623482"
     },
     "user_tz": -60
    },
    "id": "w0Dq_tid7ylO",
    "outputId": "a7d0cb75-0649-41e6-996d-ad0c1eadf274"
   },
   "outputs": [
    {
     "name": "stdout",
     "output_type": "stream",
     "text": [
      "Observed average probability: 0.4007507562637329\n",
      "Number of times average is larger than permutated: 0\n",
      "P-value: 0.0\n",
      "\n"
     ]
    }
   ],
   "source": [
    "permutation_test2(big_df, 'Topic 12', 'FAMILY','VENT')"
   ]
  },
  {
   "cell_type": "markdown",
   "metadata": {
    "id": "A8UV6AQw7ylO"
   },
   "source": [
    "### Dismissal and Abuse"
   ]
  },
  {
   "cell_type": "code",
   "execution_count": null,
   "metadata": {
    "colab": {
     "base_uri": "https://localhost:8080/"
    },
    "executionInfo": {
     "elapsed": 71416,
     "status": "ok",
     "timestamp": 1673360216208,
     "user": {
      "displayName": "Federica Bologna",
      "userId": "16530074403271623482"
     },
     "user_tz": -60
    },
    "id": "EmhnPZIT7ylO",
    "outputId": "cc21924f-54a0-4a66-8628-64318a47341c"
   },
   "outputs": [
    {
     "name": "stdout",
     "output_type": "stream",
     "text": [
      "Observed average probability: 0.5280482172966003\n",
      "Number of times average is larger than permutated: 0\n",
      "P-value: 0.0\n",
      "\n"
     ]
    }
   ],
   "source": [
    "permutation_test2(big_df, 'Topic 7', 'DOCTORS','SEEKING_EMOTION')"
   ]
  },
  {
   "cell_type": "code",
   "execution_count": null,
   "metadata": {
    "colab": {
     "base_uri": "https://localhost:8080/"
    },
    "executionInfo": {
     "elapsed": 67355,
     "status": "ok",
     "timestamp": 1673360283548,
     "user": {
      "displayName": "Federica Bologna",
      "userId": "16530074403271623482"
     },
     "user_tz": -60
    },
    "id": "X2HJe2Zj7ylO",
    "outputId": "875ee63a-542b-4a78-8d58-0c3edc0cf695"
   },
   "outputs": [
    {
     "name": "stdout",
     "output_type": "stream",
     "text": [
      "Observed average probability: 0.6750293374061584\n",
      "Number of times average is larger than permutated: 0\n",
      "P-value: 0.0\n",
      "\n"
     ]
    }
   ],
   "source": [
    "permutation_test2(big_df, 'Topic 7', 'DOCTORS','VENT')"
   ]
  },
  {
   "cell_type": "code",
   "execution_count": null,
   "metadata": {
    "colab": {
     "base_uri": "https://localhost:8080/"
    },
    "executionInfo": {
     "elapsed": 64008,
     "status": "ok",
     "timestamp": 1673360347541,
     "user": {
      "displayName": "Federica Bologna",
      "userId": "16530074403271623482"
     },
     "user_tz": -60
    },
    "id": "hiYEmQQz7ylO",
    "outputId": "3c9d44e9-46b0-4562-c639-151747301b35"
   },
   "outputs": [
    {
     "name": "stdout",
     "output_type": "stream",
     "text": [
      "Observed average probability: 0.7107420563697815\n",
      "Number of times average is larger than permutated: 0\n",
      "P-value: 0.0\n",
      "\n"
     ]
    }
   ],
   "source": [
    "permutation_test2(big_df, 'Topic 7', 'FAMILY','SEEKING_EMOTION')"
   ]
  },
  {
   "cell_type": "code",
   "execution_count": null,
   "metadata": {
    "colab": {
     "base_uri": "https://localhost:8080/"
    },
    "executionInfo": {
     "elapsed": 62102,
     "status": "ok",
     "timestamp": 1673360409628,
     "user": {
      "displayName": "Federica Bologna",
      "userId": "16530074403271623482"
     },
     "user_tz": -60
    },
    "id": "_2UinBGs7ylP",
    "outputId": "1e4b0a43-f105-4ea1-bf25-d40e98058454"
   },
   "outputs": [
    {
     "name": "stdout",
     "output_type": "stream",
     "text": [
      "Observed average probability: 0.9079230427742004\n",
      "Number of times average is larger than permutated: 0\n",
      "P-value: 0.0\n",
      "\n"
     ]
    }
   ],
   "source": [
    "permutation_test2(big_df, 'Topic 7', 'FAMILY','VENT')"
   ]
  },
  {
   "cell_type": "code",
   "execution_count": null,
   "metadata": {
    "colab": {
     "base_uri": "https://localhost:8080/"
    },
    "executionInfo": {
     "elapsed": 63261,
     "status": "ok",
     "timestamp": 1673360472875,
     "user": {
      "displayName": "Federica Bologna",
      "userId": "16530074403271623482"
     },
     "user_tz": -60
    },
    "id": "WkI0_96a7ylP",
    "outputId": "8c244574-cfd3-4f1f-ce75-ba997435f8c5"
   },
   "outputs": [
    {
     "name": "stdout",
     "output_type": "stream",
     "text": [
      "Observed average probability: 0.5937626957893372\n",
      "Number of times average is larger than permutated: 0\n",
      "P-value: 0.0\n",
      "\n"
     ]
    }
   ],
   "source": [
    "permutation_test2(big_df, 'Topic 7', 'PARTNER','SEEKING_EMOTION')"
   ]
  },
  {
   "cell_type": "code",
   "execution_count": null,
   "metadata": {
    "colab": {
     "base_uri": "https://localhost:8080/"
    },
    "executionInfo": {
     "elapsed": 65024,
     "status": "ok",
     "timestamp": 1673360537876,
     "user": {
      "displayName": "Federica Bologna",
      "userId": "16530074403271623482"
     },
     "user_tz": -60
    },
    "id": "x58DZWPU7ylP",
    "outputId": "f4879a75-64d4-4ce1-86fb-f68f3f06b724"
   },
   "outputs": [
    {
     "name": "stdout",
     "output_type": "stream",
     "text": [
      "Observed average probability: 0.7551103234291077\n",
      "Number of times average is larger than permutated: 0\n",
      "P-value: 0.0\n",
      "\n"
     ]
    }
   ],
   "source": [
    "permutation_test2(big_df, 'Topic 7', 'PARTNER','VENT')"
   ]
  },
  {
   "cell_type": "code",
   "execution_count": null,
   "metadata": {
    "colab": {
     "base_uri": "https://localhost:8080/"
    },
    "executionInfo": {
     "elapsed": 68561,
     "status": "ok",
     "timestamp": 1673360606414,
     "user": {
      "displayName": "Federica Bologna",
      "userId": "16530074403271623482"
     },
     "user_tz": -60
    },
    "id": "BqRgqhSr7ylP",
    "outputId": "94dbe1c8-df5d-4285-a8ef-bb6f51a92786"
   },
   "outputs": [
    {
     "name": "stdout",
     "output_type": "stream",
     "text": [
      "Observed average probability: 0.4644415080547333\n",
      "Number of times average is larger than permutated: 0\n",
      "P-value: 0.0\n",
      "\n"
     ]
    }
   ],
   "source": [
    "permutation_test2(big_df, 'Topic 7', 'ENDO SUPPORT COMMUNITY','SEEKING_EMOTION')"
   ]
  },
  {
   "cell_type": "code",
   "execution_count": null,
   "metadata": {
    "colab": {
     "base_uri": "https://localhost:8080/"
    },
    "executionInfo": {
     "elapsed": 68071,
     "status": "ok",
     "timestamp": 1673360674466,
     "user": {
      "displayName": "Federica Bologna",
      "userId": "16530074403271623482"
     },
     "user_tz": -60
    },
    "id": "HSPYQTH77ylP",
    "outputId": "f14deccf-ecf7-4021-985c-d284a5b55a29"
   },
   "outputs": [
    {
     "name": "stdout",
     "output_type": "stream",
     "text": [
      "Observed average probability: 0.6957864165306091\n",
      "Number of times average is larger than permutated: 0\n",
      "P-value: 0.0\n",
      "\n"
     ]
    }
   ],
   "source": [
    "permutation_test2(big_df, 'Topic 7', 'ENDO SUPPORT COMMUNITY','VENT')"
   ]
  }
 ],
 "metadata": {
  "colab": {
   "authorship_tag": "ABX9TyPtQoTz/NnLsFrZBKOgckVn",
   "collapsed_sections": [
    "P7F5PKY7Z4z1",
    "Vre8YXDQsK9t",
    "gq5ej1bRtKkp",
    "AW6fZgT4uD8B"
   ],
   "provenance": []
  },
  "kernelspec": {
   "display_name": "Python 3",
   "name": "python3"
  },
  "language_info": {
   "name": "python"
  }
 },
 "nbformat": 4,
 "nbformat_minor": 0
}
