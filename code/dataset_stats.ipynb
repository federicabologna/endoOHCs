{
  "nbformat": 4,
  "nbformat_minor": 0,
  "metadata": {
    "colab": {
      "provenance": [],
      "collapsed_sections": [
        "j4uoOInF63YP",
        "0Opwe9GhudP3"
      ]
    },
    "kernelspec": {
      "name": "python3",
      "display_name": "Python 3"
    },
    "language_info": {
      "name": "python"
    }
  },
  "cells": [
    {
      "cell_type": "code",
      "source": [
        "# !pip install matplotlib==3.4.0"
      ],
      "metadata": {
        "id": "jxUdLkQ-FufF"
      },
      "execution_count": 1,
      "outputs": []
    },
    {
      "cell_type": "code",
      "execution_count": 4,
      "metadata": {
        "id": "tN8nKSPFXHw-"
      },
      "outputs": [],
      "source": [
        "import os\n",
        "import re\n",
        "from collections import Counter\n",
        "import pandas as pd\n",
        "import numpy as np\n",
        "import seaborn as sns\n",
        "import matplotlib.pyplot as plt\n",
        "from scipy import stats\n",
        "from sklearn.feature_extraction.text import CountVectorizer\n",
        "from google.colab import drive, files"
      ]
    },
    {
      "cell_type": "code",
      "source": [
        "drive.mount('/content/drive')"
      ],
      "metadata": {
        "id": "dyzt2fezn3v-",
        "colab": {
          "base_uri": "https://localhost:8080/"
        },
        "outputId": "12f03b09-60ed-44f5-bb83-58164ed01c89"
      },
      "execution_count": 5,
      "outputs": [
        {
          "output_type": "stream",
          "name": "stdout",
          "text": [
            "Mounted at /content/drive\n"
          ]
        }
      ]
    },
    {
      "cell_type": "code",
      "execution_count": 6,
      "metadata": {
        "id": "hMRMSoyNnh-j"
      },
      "outputs": [],
      "source": [
        "# point to the drive directory\n",
        "endo_dir = '/content/drive/MyDrive/endometriosis/'"
      ]
    },
    {
      "cell_type": "code",
      "source": [
        "import matplotlib as mpl\n",
        "mpl.rcParams['font.size'] = 13"
      ],
      "metadata": {
        "id": "k2q246WT4ygQ"
      },
      "execution_count": 27,
      "outputs": []
    },
    {
      "cell_type": "markdown",
      "source": [
        "## Preprocessing the dataset"
      ],
      "metadata": {
        "id": "0pTcM8rz3oJ9"
      }
    },
    {
      "cell_type": "code",
      "source": [
        "dataset_file = os.path.join(endo_dir, 'data','endo+endometriosis.pkl')\n",
        "data_df = pd.read_pickle(dataset_file)\n",
        "data_df['year'] = [int(str(x).split('-')[0]) for x in data_df.time]\n",
        "print(len(data_df))\n",
        "data_df[:1]"
      ],
      "metadata": {
        "id": "MReASdTDLyMz",
        "colab": {
          "base_uri": "https://localhost:8080/",
          "height": 176
        },
        "outputId": "4f90ccb4-53ef-4267-ab07-3931ffb7a770"
      },
      "execution_count": 7,
      "outputs": [
        {
          "output_type": "stream",
          "name": "stdout",
          "text": [
            "392087\n"
          ]
        },
        {
          "output_type": "execute_result",
          "data": {
            "text/plain": [
              "     author                    id     type  \\\n",
              "0  endogirl  Endo_c3efp47_comment  comment   \n",
              "\n",
              "                                                text  \\\n",
              "0  Soy is a no go as it increases estrogen in you...   \n",
              "\n",
              "                                            url   link_id   parent_id flair  \\\n",
              "0  http://www.reddit.com/r/Endo/comments/mrkjh/  t3_mrkjh  t1_c39qhd9   N/A   \n",
              "\n",
              "  subreddit  created_utc                time  year  \n",
              "0      Endo   1325832269 2012-01-06 06:44:29  2012  "
            ],
            "text/html": [
              "\n",
              "  <div id=\"df-71819577-3c47-4420-9375-9ee1cf2391f1\" class=\"colab-df-container\">\n",
              "    <div>\n",
              "<style scoped>\n",
              "    .dataframe tbody tr th:only-of-type {\n",
              "        vertical-align: middle;\n",
              "    }\n",
              "\n",
              "    .dataframe tbody tr th {\n",
              "        vertical-align: top;\n",
              "    }\n",
              "\n",
              "    .dataframe thead th {\n",
              "        text-align: right;\n",
              "    }\n",
              "</style>\n",
              "<table border=\"1\" class=\"dataframe\">\n",
              "  <thead>\n",
              "    <tr style=\"text-align: right;\">\n",
              "      <th></th>\n",
              "      <th>author</th>\n",
              "      <th>id</th>\n",
              "      <th>type</th>\n",
              "      <th>text</th>\n",
              "      <th>url</th>\n",
              "      <th>link_id</th>\n",
              "      <th>parent_id</th>\n",
              "      <th>flair</th>\n",
              "      <th>subreddit</th>\n",
              "      <th>created_utc</th>\n",
              "      <th>time</th>\n",
              "      <th>year</th>\n",
              "    </tr>\n",
              "  </thead>\n",
              "  <tbody>\n",
              "    <tr>\n",
              "      <th>0</th>\n",
              "      <td>endogirl</td>\n",
              "      <td>Endo_c3efp47_comment</td>\n",
              "      <td>comment</td>\n",
              "      <td>Soy is a no go as it increases estrogen in you...</td>\n",
              "      <td>http://www.reddit.com/r/Endo/comments/mrkjh/</td>\n",
              "      <td>t3_mrkjh</td>\n",
              "      <td>t1_c39qhd9</td>\n",
              "      <td>N/A</td>\n",
              "      <td>Endo</td>\n",
              "      <td>1325832269</td>\n",
              "      <td>2012-01-06 06:44:29</td>\n",
              "      <td>2012</td>\n",
              "    </tr>\n",
              "  </tbody>\n",
              "</table>\n",
              "</div>\n",
              "    <div class=\"colab-df-buttons\">\n",
              "\n",
              "  <div class=\"colab-df-container\">\n",
              "    <button class=\"colab-df-convert\" onclick=\"convertToInteractive('df-71819577-3c47-4420-9375-9ee1cf2391f1')\"\n",
              "            title=\"Convert this dataframe to an interactive table.\"\n",
              "            style=\"display:none;\">\n",
              "\n",
              "  <svg xmlns=\"http://www.w3.org/2000/svg\" height=\"24px\" viewBox=\"0 -960 960 960\">\n",
              "    <path d=\"M120-120v-720h720v720H120Zm60-500h600v-160H180v160Zm220 220h160v-160H400v160Zm0 220h160v-160H400v160ZM180-400h160v-160H180v160Zm440 0h160v-160H620v160ZM180-180h160v-160H180v160Zm440 0h160v-160H620v160Z\"/>\n",
              "  </svg>\n",
              "    </button>\n",
              "\n",
              "  <style>\n",
              "    .colab-df-container {\n",
              "      display:flex;\n",
              "      gap: 12px;\n",
              "    }\n",
              "\n",
              "    .colab-df-convert {\n",
              "      background-color: #E8F0FE;\n",
              "      border: none;\n",
              "      border-radius: 50%;\n",
              "      cursor: pointer;\n",
              "      display: none;\n",
              "      fill: #1967D2;\n",
              "      height: 32px;\n",
              "      padding: 0 0 0 0;\n",
              "      width: 32px;\n",
              "    }\n",
              "\n",
              "    .colab-df-convert:hover {\n",
              "      background-color: #E2EBFA;\n",
              "      box-shadow: 0px 1px 2px rgba(60, 64, 67, 0.3), 0px 1px 3px 1px rgba(60, 64, 67, 0.15);\n",
              "      fill: #174EA6;\n",
              "    }\n",
              "\n",
              "    .colab-df-buttons div {\n",
              "      margin-bottom: 4px;\n",
              "    }\n",
              "\n",
              "    [theme=dark] .colab-df-convert {\n",
              "      background-color: #3B4455;\n",
              "      fill: #D2E3FC;\n",
              "    }\n",
              "\n",
              "    [theme=dark] .colab-df-convert:hover {\n",
              "      background-color: #434B5C;\n",
              "      box-shadow: 0px 1px 3px 1px rgba(0, 0, 0, 0.15);\n",
              "      filter: drop-shadow(0px 1px 2px rgba(0, 0, 0, 0.3));\n",
              "      fill: #FFFFFF;\n",
              "    }\n",
              "  </style>\n",
              "\n",
              "    <script>\n",
              "      const buttonEl =\n",
              "        document.querySelector('#df-71819577-3c47-4420-9375-9ee1cf2391f1 button.colab-df-convert');\n",
              "      buttonEl.style.display =\n",
              "        google.colab.kernel.accessAllowed ? 'block' : 'none';\n",
              "\n",
              "      async function convertToInteractive(key) {\n",
              "        const element = document.querySelector('#df-71819577-3c47-4420-9375-9ee1cf2391f1');\n",
              "        const dataTable =\n",
              "          await google.colab.kernel.invokeFunction('convertToInteractive',\n",
              "                                                    [key], {});\n",
              "        if (!dataTable) return;\n",
              "\n",
              "        const docLinkHtml = 'Like what you see? Visit the ' +\n",
              "          '<a target=\"_blank\" href=https://colab.research.google.com/notebooks/data_table.ipynb>data table notebook</a>'\n",
              "          + ' to learn more about interactive tables.';\n",
              "        element.innerHTML = '';\n",
              "        dataTable['output_type'] = 'display_data';\n",
              "        await google.colab.output.renderOutput(dataTable, element);\n",
              "        const docLink = document.createElement('div');\n",
              "        docLink.innerHTML = docLinkHtml;\n",
              "        element.appendChild(docLink);\n",
              "      }\n",
              "    </script>\n",
              "  </div>\n",
              "\n",
              "\n",
              "    </div>\n",
              "  </div>\n"
            ],
            "application/vnd.google.colaboratory.intrinsic+json": {
              "type": "dataframe",
              "summary": "{\n  \"name\": \"data_df[:1]\",\n  \"rows\": 1,\n  \"fields\": [\n    {\n      \"column\": \"author\",\n      \"properties\": {\n        \"dtype\": \"string\",\n        \"num_unique_values\": 1,\n        \"samples\": [\n          \"endogirl\"\n        ],\n        \"semantic_type\": \"\",\n        \"description\": \"\"\n      }\n    },\n    {\n      \"column\": \"id\",\n      \"properties\": {\n        \"dtype\": \"string\",\n        \"num_unique_values\": 1,\n        \"samples\": [\n          \"Endo_c3efp47_comment\"\n        ],\n        \"semantic_type\": \"\",\n        \"description\": \"\"\n      }\n    },\n    {\n      \"column\": \"type\",\n      \"properties\": {\n        \"dtype\": \"string\",\n        \"num_unique_values\": 1,\n        \"samples\": [\n          \"comment\"\n        ],\n        \"semantic_type\": \"\",\n        \"description\": \"\"\n      }\n    },\n    {\n      \"column\": \"text\",\n      \"properties\": {\n        \"dtype\": \"string\",\n        \"num_unique_values\": 1,\n        \"samples\": [\n          \"Soy is a no go as it increases estrogen in your body... And estrogen just feeds the endo. Stupid soy. \"\n        ],\n        \"semantic_type\": \"\",\n        \"description\": \"\"\n      }\n    },\n    {\n      \"column\": \"url\",\n      \"properties\": {\n        \"dtype\": \"string\",\n        \"num_unique_values\": 1,\n        \"samples\": [\n          \"http://www.reddit.com/r/Endo/comments/mrkjh/\"\n        ],\n        \"semantic_type\": \"\",\n        \"description\": \"\"\n      }\n    },\n    {\n      \"column\": \"link_id\",\n      \"properties\": {\n        \"dtype\": \"string\",\n        \"num_unique_values\": 1,\n        \"samples\": [\n          \"t3_mrkjh\"\n        ],\n        \"semantic_type\": \"\",\n        \"description\": \"\"\n      }\n    },\n    {\n      \"column\": \"parent_id\",\n      \"properties\": {\n        \"dtype\": \"string\",\n        \"num_unique_values\": 1,\n        \"samples\": [\n          \"t1_c39qhd9\"\n        ],\n        \"semantic_type\": \"\",\n        \"description\": \"\"\n      }\n    },\n    {\n      \"column\": \"flair\",\n      \"properties\": {\n        \"dtype\": \"string\",\n        \"num_unique_values\": 1,\n        \"samples\": [\n          \"N/A\"\n        ],\n        \"semantic_type\": \"\",\n        \"description\": \"\"\n      }\n    },\n    {\n      \"column\": \"subreddit\",\n      \"properties\": {\n        \"dtype\": \"string\",\n        \"num_unique_values\": 1,\n        \"samples\": [\n          \"Endo\"\n        ],\n        \"semantic_type\": \"\",\n        \"description\": \"\"\n      }\n    },\n    {\n      \"column\": \"created_utc\",\n      \"properties\": {\n        \"dtype\": \"number\",\n        \"std\": null,\n        \"min\": 1325832269,\n        \"max\": 1325832269,\n        \"num_unique_values\": 1,\n        \"samples\": [\n          1325832269\n        ],\n        \"semantic_type\": \"\",\n        \"description\": \"\"\n      }\n    },\n    {\n      \"column\": \"time\",\n      \"properties\": {\n        \"dtype\": \"date\",\n        \"min\": \"2012-01-06 06:44:29\",\n        \"max\": \"2012-01-06 06:44:29\",\n        \"num_unique_values\": 1,\n        \"samples\": [\n          \"2012-01-06 06:44:29\"\n        ],\n        \"semantic_type\": \"\",\n        \"description\": \"\"\n      }\n    },\n    {\n      \"column\": \"year\",\n      \"properties\": {\n        \"dtype\": \"number\",\n        \"std\": null,\n        \"min\": 2012,\n        \"max\": 2012,\n        \"num_unique_values\": 1,\n        \"samples\": [\n          2012\n        ],\n        \"semantic_type\": \"\",\n        \"description\": \"\"\n      }\n    }\n  ]\n}"
            }
          },
          "metadata": {},
          "execution_count": 7
        }
      ]
    },
    {
      "cell_type": "code",
      "source": [
        "old_data_df = data_df\n",
        "len(old_data_df)"
      ],
      "metadata": {
        "id": "KQ2UPlgT74hM",
        "colab": {
          "base_uri": "https://localhost:8080/"
        },
        "outputId": "4abd4ba7-e55c-4a4d-bffe-7107dcef9f46"
      },
      "execution_count": 8,
      "outputs": [
        {
          "output_type": "execute_result",
          "data": {
            "text/plain": [
              "392087"
            ]
          },
          "metadata": {},
          "execution_count": 8
        }
      ]
    },
    {
      "cell_type": "code",
      "source": [
        "indexes = []\n",
        "for index, row in data_df.iterrows():\n",
        "  if row['text'] == '[deleted]' or row['text'] == '[removed]':\n",
        "    indexes.append(index)\n",
        "len(indexes)"
      ],
      "metadata": {
        "id": "h2CLR7kN7YFH",
        "colab": {
          "base_uri": "https://localhost:8080/"
        },
        "outputId": "51173d1e-d2b9-453f-85bf-a94f3549bf64"
      },
      "execution_count": 9,
      "outputs": [
        {
          "output_type": "execute_result",
          "data": {
            "text/plain": [
              "4210"
            ]
          },
          "metadata": {},
          "execution_count": 9
        }
      ]
    },
    {
      "cell_type": "code",
      "source": [
        "# remove removed and deleted comments\n",
        "data_df = data_df.drop(indexes)\n",
        "len(data_df)"
      ],
      "metadata": {
        "id": "y34cld5z7zm2",
        "colab": {
          "base_uri": "https://localhost:8080/"
        },
        "outputId": "9b77504e-134f-4b02-a55c-c10afa8318ce"
      },
      "execution_count": 10,
      "outputs": [
        {
          "output_type": "execute_result",
          "data": {
            "text/plain": [
              "387877"
            ]
          },
          "metadata": {},
          "execution_count": 10
        }
      ]
    },
    {
      "cell_type": "code",
      "source": [
        "corpus = data_df['text'].tolist()\n",
        "vectorizer = CountVectorizer(lowercase=False)\n",
        "X = vectorizer.fit_transform(corpus)\n",
        "token_counts = X.sum(axis=1)\n",
        "data_df['n_words'] = np.array(token_counts).flatten()"
      ],
      "metadata": {
        "id": "q1PwgDUG5RvN"
      },
      "execution_count": 11,
      "outputs": []
    },
    {
      "cell_type": "markdown",
      "source": [
        "## Preparatory functions"
      ],
      "metadata": {
        "id": "j4uoOInF63YP"
      }
    },
    {
      "cell_type": "code",
      "source": [
        "def num_unique_words(df):\n",
        "\n",
        "  corpus = df['text'].tolist()\n",
        "  unique_vectorizer = CountVectorizer(lowercase=True)\n",
        "  X = unique_vectorizer.fit_transform(corpus)\n",
        "\n",
        "  return len(unique_vectorizer.get_feature_names_out())"
      ],
      "metadata": {
        "id": "rjxfNpXsxyLj"
      },
      "execution_count": 11,
      "outputs": []
    },
    {
      "cell_type": "markdown",
      "source": [
        "# Make Dataframe of Dataset Stats"
      ],
      "metadata": {
        "id": "IWRr7r4x3uQn"
      }
    },
    {
      "cell_type": "code",
      "source": [
        "summary = {}\n",
        "for dataslice in ['r/Endo', 'r/endometriosis', 'Combined']:\n",
        "  summary[dataslice] = []\n",
        "\n",
        "  if dataslice == 'Combined':\n",
        "    df = data_df\n",
        "  elif dataslice == 'r/Endo':\n",
        "    df = data_df.loc[data_df['subreddit']=='Endo']\n",
        "  elif dataslice == 'r/endometriosis':\n",
        "    df = data_df.loc[data_df['subreddit']=='endometriosis']\n",
        "\n",
        "  summary_d = {}\n",
        "  summary_d['Total Number of Words'] = np.sum(data_df['n_words']) # num of words\n",
        "  summary_d['Number Unique Tokens'] = num_unique_words(df) # num of unique tokens\n",
        "  summary_d['Number of Unique Authors'] = len(df.author.unique()) # num of unique authors\n",
        "\n",
        "  for typ in ['Post', 'Comment']: # get stats for posts/comments for each dataslice\n",
        "\n",
        "    typ_df = df.loc[df['type']==typ.lower()]\n",
        "    num_posts = len(typ_df)\n",
        "    summary_d[f'Number of {typ}s'] = f'{num_posts}' # number of posts/comment\n",
        "\n",
        "    num_words_mean = round(np.mean(typ_df['n_words']), 2) # mean number of words per post/comment\n",
        "    IQR = round(np.subtract(*np.percentile(typ_df['n_words'], [75, 25])), 2) # IQR of number of words per post/comment\n",
        "    summary_d[f'Number of Words per {typ}: Mean (IQR)'] = f'{num_words_mean} ({IQR})'\n",
        "\n",
        "    if typ == 'Post': # if the df contains of posts\n",
        "      summary_d['Number of Unique Posters'] = len(typ_df.author.unique()) # number of unique posters\n",
        "\n",
        "      num_posts_per_poster = typ_df.groupby('author').count().iloc[1:].id\n",
        "      num_posts_per_poster_mean = round(np.mean(num_posts_per_poster), 2)\n",
        "      num_posts_per_poster_IQR = round(np.subtract(*np.percentile(num_posts_per_poster, [75, 25])), 2)\n",
        "      summary_d[f'Number of Posts per Poster: Mean (IQR)'] = f'{num_posts_per_poster_mean}' # number of posts per unique poster\n",
        "\n",
        "    elif typ == 'Comment': # if the df contains comments\n",
        "      num_comments = typ_df.groupby('link_id').count().iloc[1:]['id']\n",
        "      num_comments_mean = round(np.mean(num_comments), 2)\n",
        "      num_comments_IQR = round(np.subtract(*np.percentile(num_comments, [75, 25])), 2)\n",
        "      summary_d[f'Number of {typ}s per Post: Mean (IQR)'] = f'{num_comments_mean}' # number of comments per each post\n",
        "\n",
        "\n",
        "  summary[dataslice].append(summary_d)"
      ],
      "metadata": {
        "id": "RPh8DkE429Jq"
      },
      "execution_count": 20,
      "outputs": []
    },
    {
      "cell_type": "code",
      "source": [
        "summary_index = list(summary['Combined'][0].keys())\n",
        "new_summary = {}\n",
        "for dataslice, stats in summary.items():\n",
        "  new_summary[dataslice] = [v for v in stats[0].values()]"
      ],
      "metadata": {
        "id": "R0bDN9GeUklj"
      },
      "execution_count": 21,
      "outputs": []
    },
    {
      "cell_type": "code",
      "source": [
        "summary_df = pd.DataFrame.from_dict(new_summary, orient='columns')\n",
        "summary_df['index'] = summary_index\n",
        "summary_df.set_index('index', inplace=True)\n",
        "summary_df"
      ],
      "metadata": {
        "colab": {
          "base_uri": "https://localhost:8080/",
          "height": 409
        },
        "id": "isLYFnpyRPCb",
        "outputId": "c70aec7c-1a2d-4be0-ba8a-9eb589ed1530"
      },
      "execution_count": 22,
      "outputs": [
        {
          "output_type": "execute_result",
          "data": {
            "text/plain": [
              "                                                 r/Endo r/endometriosis  \\\n",
              "index                                                                     \n",
              "Total Number of Words                          26994624        26994624   \n",
              "Number Unique Tokens                              74017           53935   \n",
              "Number of Unique Authors                          20263           17151   \n",
              "Number of Posts                                   22584           12131   \n",
              "Number of Words per Post: Mean (IQR)     164.17 (139.0)   162.4 (137.0)   \n",
              "Number of Unique Posters                           9861            7147   \n",
              "Number of Posts per Poster: Mean (IQR)             2.29             1.7   \n",
              "Number of Comments                               225221          127941   \n",
              "Number of Words per Comment: Mean (IQR)    60.98 (59.0)    59.28 (57.0)   \n",
              "Number of Comments per Post: Mean (IQR)            8.44            9.02   \n",
              "\n",
              "                                               Combined  \n",
              "index                                                    \n",
              "Total Number of Words                          26994624  \n",
              "Number Unique Tokens                              90472  \n",
              "Number of Unique Authors                          29783  \n",
              "Number of Posts                                   34715  \n",
              "Number of Words per Post: Mean (IQR)     163.55 (139.0)  \n",
              "Number of Unique Posters                          14910  \n",
              "Number of Posts per Poster: Mean (IQR)             2.33  \n",
              "Number of Comments                               353162  \n",
              "Number of Words per Comment: Mean (IQR)    60.36 (58.0)  \n",
              "Number of Comments per Post: Mean (IQR)            8.64  "
            ],
            "text/html": [
              "\n",
              "  <div id=\"df-0f97d52d-1f5a-49e9-b68a-65f57c550412\" class=\"colab-df-container\">\n",
              "    <div>\n",
              "<style scoped>\n",
              "    .dataframe tbody tr th:only-of-type {\n",
              "        vertical-align: middle;\n",
              "    }\n",
              "\n",
              "    .dataframe tbody tr th {\n",
              "        vertical-align: top;\n",
              "    }\n",
              "\n",
              "    .dataframe thead th {\n",
              "        text-align: right;\n",
              "    }\n",
              "</style>\n",
              "<table border=\"1\" class=\"dataframe\">\n",
              "  <thead>\n",
              "    <tr style=\"text-align: right;\">\n",
              "      <th></th>\n",
              "      <th>r/Endo</th>\n",
              "      <th>r/endometriosis</th>\n",
              "      <th>Combined</th>\n",
              "    </tr>\n",
              "    <tr>\n",
              "      <th>index</th>\n",
              "      <th></th>\n",
              "      <th></th>\n",
              "      <th></th>\n",
              "    </tr>\n",
              "  </thead>\n",
              "  <tbody>\n",
              "    <tr>\n",
              "      <th>Total Number of Words</th>\n",
              "      <td>26994624</td>\n",
              "      <td>26994624</td>\n",
              "      <td>26994624</td>\n",
              "    </tr>\n",
              "    <tr>\n",
              "      <th>Number Unique Tokens</th>\n",
              "      <td>74017</td>\n",
              "      <td>53935</td>\n",
              "      <td>90472</td>\n",
              "    </tr>\n",
              "    <tr>\n",
              "      <th>Number of Unique Authors</th>\n",
              "      <td>20263</td>\n",
              "      <td>17151</td>\n",
              "      <td>29783</td>\n",
              "    </tr>\n",
              "    <tr>\n",
              "      <th>Number of Posts</th>\n",
              "      <td>22584</td>\n",
              "      <td>12131</td>\n",
              "      <td>34715</td>\n",
              "    </tr>\n",
              "    <tr>\n",
              "      <th>Number of Words per Post: Mean (IQR)</th>\n",
              "      <td>164.17 (139.0)</td>\n",
              "      <td>162.4 (137.0)</td>\n",
              "      <td>163.55 (139.0)</td>\n",
              "    </tr>\n",
              "    <tr>\n",
              "      <th>Number of Unique Posters</th>\n",
              "      <td>9861</td>\n",
              "      <td>7147</td>\n",
              "      <td>14910</td>\n",
              "    </tr>\n",
              "    <tr>\n",
              "      <th>Number of Posts per Poster: Mean (IQR)</th>\n",
              "      <td>2.29</td>\n",
              "      <td>1.7</td>\n",
              "      <td>2.33</td>\n",
              "    </tr>\n",
              "    <tr>\n",
              "      <th>Number of Comments</th>\n",
              "      <td>225221</td>\n",
              "      <td>127941</td>\n",
              "      <td>353162</td>\n",
              "    </tr>\n",
              "    <tr>\n",
              "      <th>Number of Words per Comment: Mean (IQR)</th>\n",
              "      <td>60.98 (59.0)</td>\n",
              "      <td>59.28 (57.0)</td>\n",
              "      <td>60.36 (58.0)</td>\n",
              "    </tr>\n",
              "    <tr>\n",
              "      <th>Number of Comments per Post: Mean (IQR)</th>\n",
              "      <td>8.44</td>\n",
              "      <td>9.02</td>\n",
              "      <td>8.64</td>\n",
              "    </tr>\n",
              "  </tbody>\n",
              "</table>\n",
              "</div>\n",
              "    <div class=\"colab-df-buttons\">\n",
              "\n",
              "  <div class=\"colab-df-container\">\n",
              "    <button class=\"colab-df-convert\" onclick=\"convertToInteractive('df-0f97d52d-1f5a-49e9-b68a-65f57c550412')\"\n",
              "            title=\"Convert this dataframe to an interactive table.\"\n",
              "            style=\"display:none;\">\n",
              "\n",
              "  <svg xmlns=\"http://www.w3.org/2000/svg\" height=\"24px\" viewBox=\"0 -960 960 960\">\n",
              "    <path d=\"M120-120v-720h720v720H120Zm60-500h600v-160H180v160Zm220 220h160v-160H400v160Zm0 220h160v-160H400v160ZM180-400h160v-160H180v160Zm440 0h160v-160H620v160ZM180-180h160v-160H180v160Zm440 0h160v-160H620v160Z\"/>\n",
              "  </svg>\n",
              "    </button>\n",
              "\n",
              "  <style>\n",
              "    .colab-df-container {\n",
              "      display:flex;\n",
              "      gap: 12px;\n",
              "    }\n",
              "\n",
              "    .colab-df-convert {\n",
              "      background-color: #E8F0FE;\n",
              "      border: none;\n",
              "      border-radius: 50%;\n",
              "      cursor: pointer;\n",
              "      display: none;\n",
              "      fill: #1967D2;\n",
              "      height: 32px;\n",
              "      padding: 0 0 0 0;\n",
              "      width: 32px;\n",
              "    }\n",
              "\n",
              "    .colab-df-convert:hover {\n",
              "      background-color: #E2EBFA;\n",
              "      box-shadow: 0px 1px 2px rgba(60, 64, 67, 0.3), 0px 1px 3px 1px rgba(60, 64, 67, 0.15);\n",
              "      fill: #174EA6;\n",
              "    }\n",
              "\n",
              "    .colab-df-buttons div {\n",
              "      margin-bottom: 4px;\n",
              "    }\n",
              "\n",
              "    [theme=dark] .colab-df-convert {\n",
              "      background-color: #3B4455;\n",
              "      fill: #D2E3FC;\n",
              "    }\n",
              "\n",
              "    [theme=dark] .colab-df-convert:hover {\n",
              "      background-color: #434B5C;\n",
              "      box-shadow: 0px 1px 3px 1px rgba(0, 0, 0, 0.15);\n",
              "      filter: drop-shadow(0px 1px 2px rgba(0, 0, 0, 0.3));\n",
              "      fill: #FFFFFF;\n",
              "    }\n",
              "  </style>\n",
              "\n",
              "    <script>\n",
              "      const buttonEl =\n",
              "        document.querySelector('#df-0f97d52d-1f5a-49e9-b68a-65f57c550412 button.colab-df-convert');\n",
              "      buttonEl.style.display =\n",
              "        google.colab.kernel.accessAllowed ? 'block' : 'none';\n",
              "\n",
              "      async function convertToInteractive(key) {\n",
              "        const element = document.querySelector('#df-0f97d52d-1f5a-49e9-b68a-65f57c550412');\n",
              "        const dataTable =\n",
              "          await google.colab.kernel.invokeFunction('convertToInteractive',\n",
              "                                                    [key], {});\n",
              "        if (!dataTable) return;\n",
              "\n",
              "        const docLinkHtml = 'Like what you see? Visit the ' +\n",
              "          '<a target=\"_blank\" href=https://colab.research.google.com/notebooks/data_table.ipynb>data table notebook</a>'\n",
              "          + ' to learn more about interactive tables.';\n",
              "        element.innerHTML = '';\n",
              "        dataTable['output_type'] = 'display_data';\n",
              "        await google.colab.output.renderOutput(dataTable, element);\n",
              "        const docLink = document.createElement('div');\n",
              "        docLink.innerHTML = docLinkHtml;\n",
              "        element.appendChild(docLink);\n",
              "      }\n",
              "    </script>\n",
              "  </div>\n",
              "\n",
              "\n",
              "<div id=\"df-8f79ff8b-6a84-4d05-a97a-59394defca15\">\n",
              "  <button class=\"colab-df-quickchart\" onclick=\"quickchart('df-8f79ff8b-6a84-4d05-a97a-59394defca15')\"\n",
              "            title=\"Suggest charts\"\n",
              "            style=\"display:none;\">\n",
              "\n",
              "<svg xmlns=\"http://www.w3.org/2000/svg\" height=\"24px\"viewBox=\"0 0 24 24\"\n",
              "     width=\"24px\">\n",
              "    <g>\n",
              "        <path d=\"M19 3H5c-1.1 0-2 .9-2 2v14c0 1.1.9 2 2 2h14c1.1 0 2-.9 2-2V5c0-1.1-.9-2-2-2zM9 17H7v-7h2v7zm4 0h-2V7h2v10zm4 0h-2v-4h2v4z\"/>\n",
              "    </g>\n",
              "</svg>\n",
              "  </button>\n",
              "\n",
              "<style>\n",
              "  .colab-df-quickchart {\n",
              "      --bg-color: #E8F0FE;\n",
              "      --fill-color: #1967D2;\n",
              "      --hover-bg-color: #E2EBFA;\n",
              "      --hover-fill-color: #174EA6;\n",
              "      --disabled-fill-color: #AAA;\n",
              "      --disabled-bg-color: #DDD;\n",
              "  }\n",
              "\n",
              "  [theme=dark] .colab-df-quickchart {\n",
              "      --bg-color: #3B4455;\n",
              "      --fill-color: #D2E3FC;\n",
              "      --hover-bg-color: #434B5C;\n",
              "      --hover-fill-color: #FFFFFF;\n",
              "      --disabled-bg-color: #3B4455;\n",
              "      --disabled-fill-color: #666;\n",
              "  }\n",
              "\n",
              "  .colab-df-quickchart {\n",
              "    background-color: var(--bg-color);\n",
              "    border: none;\n",
              "    border-radius: 50%;\n",
              "    cursor: pointer;\n",
              "    display: none;\n",
              "    fill: var(--fill-color);\n",
              "    height: 32px;\n",
              "    padding: 0;\n",
              "    width: 32px;\n",
              "  }\n",
              "\n",
              "  .colab-df-quickchart:hover {\n",
              "    background-color: var(--hover-bg-color);\n",
              "    box-shadow: 0 1px 2px rgba(60, 64, 67, 0.3), 0 1px 3px 1px rgba(60, 64, 67, 0.15);\n",
              "    fill: var(--button-hover-fill-color);\n",
              "  }\n",
              "\n",
              "  .colab-df-quickchart-complete:disabled,\n",
              "  .colab-df-quickchart-complete:disabled:hover {\n",
              "    background-color: var(--disabled-bg-color);\n",
              "    fill: var(--disabled-fill-color);\n",
              "    box-shadow: none;\n",
              "  }\n",
              "\n",
              "  .colab-df-spinner {\n",
              "    border: 2px solid var(--fill-color);\n",
              "    border-color: transparent;\n",
              "    border-bottom-color: var(--fill-color);\n",
              "    animation:\n",
              "      spin 1s steps(1) infinite;\n",
              "  }\n",
              "\n",
              "  @keyframes spin {\n",
              "    0% {\n",
              "      border-color: transparent;\n",
              "      border-bottom-color: var(--fill-color);\n",
              "      border-left-color: var(--fill-color);\n",
              "    }\n",
              "    20% {\n",
              "      border-color: transparent;\n",
              "      border-left-color: var(--fill-color);\n",
              "      border-top-color: var(--fill-color);\n",
              "    }\n",
              "    30% {\n",
              "      border-color: transparent;\n",
              "      border-left-color: var(--fill-color);\n",
              "      border-top-color: var(--fill-color);\n",
              "      border-right-color: var(--fill-color);\n",
              "    }\n",
              "    40% {\n",
              "      border-color: transparent;\n",
              "      border-right-color: var(--fill-color);\n",
              "      border-top-color: var(--fill-color);\n",
              "    }\n",
              "    60% {\n",
              "      border-color: transparent;\n",
              "      border-right-color: var(--fill-color);\n",
              "    }\n",
              "    80% {\n",
              "      border-color: transparent;\n",
              "      border-right-color: var(--fill-color);\n",
              "      border-bottom-color: var(--fill-color);\n",
              "    }\n",
              "    90% {\n",
              "      border-color: transparent;\n",
              "      border-bottom-color: var(--fill-color);\n",
              "    }\n",
              "  }\n",
              "</style>\n",
              "\n",
              "  <script>\n",
              "    async function quickchart(key) {\n",
              "      const quickchartButtonEl =\n",
              "        document.querySelector('#' + key + ' button');\n",
              "      quickchartButtonEl.disabled = true;  // To prevent multiple clicks.\n",
              "      quickchartButtonEl.classList.add('colab-df-spinner');\n",
              "      try {\n",
              "        const charts = await google.colab.kernel.invokeFunction(\n",
              "            'suggestCharts', [key], {});\n",
              "      } catch (error) {\n",
              "        console.error('Error during call to suggestCharts:', error);\n",
              "      }\n",
              "      quickchartButtonEl.classList.remove('colab-df-spinner');\n",
              "      quickchartButtonEl.classList.add('colab-df-quickchart-complete');\n",
              "    }\n",
              "    (() => {\n",
              "      let quickchartButtonEl =\n",
              "        document.querySelector('#df-8f79ff8b-6a84-4d05-a97a-59394defca15 button');\n",
              "      quickchartButtonEl.style.display =\n",
              "        google.colab.kernel.accessAllowed ? 'block' : 'none';\n",
              "    })();\n",
              "  </script>\n",
              "</div>\n",
              "\n",
              "  <div id=\"id_abe40eed-31c6-42f8-be4b-5875d698004e\">\n",
              "    <style>\n",
              "      .colab-df-generate {\n",
              "        background-color: #E8F0FE;\n",
              "        border: none;\n",
              "        border-radius: 50%;\n",
              "        cursor: pointer;\n",
              "        display: none;\n",
              "        fill: #1967D2;\n",
              "        height: 32px;\n",
              "        padding: 0 0 0 0;\n",
              "        width: 32px;\n",
              "      }\n",
              "\n",
              "      .colab-df-generate:hover {\n",
              "        background-color: #E2EBFA;\n",
              "        box-shadow: 0px 1px 2px rgba(60, 64, 67, 0.3), 0px 1px 3px 1px rgba(60, 64, 67, 0.15);\n",
              "        fill: #174EA6;\n",
              "      }\n",
              "\n",
              "      [theme=dark] .colab-df-generate {\n",
              "        background-color: #3B4455;\n",
              "        fill: #D2E3FC;\n",
              "      }\n",
              "\n",
              "      [theme=dark] .colab-df-generate:hover {\n",
              "        background-color: #434B5C;\n",
              "        box-shadow: 0px 1px 3px 1px rgba(0, 0, 0, 0.15);\n",
              "        filter: drop-shadow(0px 1px 2px rgba(0, 0, 0, 0.3));\n",
              "        fill: #FFFFFF;\n",
              "      }\n",
              "    </style>\n",
              "    <button class=\"colab-df-generate\" onclick=\"generateWithVariable('summary_df')\"\n",
              "            title=\"Generate code using this dataframe.\"\n",
              "            style=\"display:none;\">\n",
              "\n",
              "  <svg xmlns=\"http://www.w3.org/2000/svg\" height=\"24px\"viewBox=\"0 0 24 24\"\n",
              "       width=\"24px\">\n",
              "    <path d=\"M7,19H8.4L18.45,9,17,7.55,7,17.6ZM5,21V16.75L18.45,3.32a2,2,0,0,1,2.83,0l1.4,1.43a1.91,1.91,0,0,1,.58,1.4,1.91,1.91,0,0,1-.58,1.4L9.25,21ZM18.45,9,17,7.55Zm-12,3A5.31,5.31,0,0,0,4.9,8.1,5.31,5.31,0,0,0,1,6.5,5.31,5.31,0,0,0,4.9,4.9,5.31,5.31,0,0,0,6.5,1,5.31,5.31,0,0,0,8.1,4.9,5.31,5.31,0,0,0,12,6.5,5.46,5.46,0,0,0,6.5,12Z\"/>\n",
              "  </svg>\n",
              "    </button>\n",
              "    <script>\n",
              "      (() => {\n",
              "      const buttonEl =\n",
              "        document.querySelector('#id_abe40eed-31c6-42f8-be4b-5875d698004e button.colab-df-generate');\n",
              "      buttonEl.style.display =\n",
              "        google.colab.kernel.accessAllowed ? 'block' : 'none';\n",
              "\n",
              "      buttonEl.onclick = () => {\n",
              "        google.colab.notebook.generateWithVariable('summary_df');\n",
              "      }\n",
              "      })();\n",
              "    </script>\n",
              "  </div>\n",
              "\n",
              "    </div>\n",
              "  </div>\n"
            ],
            "application/vnd.google.colaboratory.intrinsic+json": {
              "type": "dataframe",
              "variable_name": "summary_df",
              "summary": "{\n  \"name\": \"summary_df\",\n  \"rows\": 10,\n  \"fields\": [\n    {\n      \"column\": \"index\",\n      \"properties\": {\n        \"dtype\": \"string\",\n        \"num_unique_values\": 10,\n        \"samples\": [\n          \"Number of Words per Comment: Mean (IQR)\",\n          \"Number Unique Tokens\",\n          \"Number of Unique Posters\"\n        ],\n        \"semantic_type\": \"\",\n        \"description\": \"\"\n      }\n    },\n    {\n      \"column\": \"r/Endo\",\n      \"properties\": {\n        \"dtype\": \"string\",\n        \"num_unique_values\": 10,\n        \"samples\": [\n          \"60.98 (59.0)\",\n          74017,\n          9861\n        ],\n        \"semantic_type\": \"\",\n        \"description\": \"\"\n      }\n    },\n    {\n      \"column\": \"r/endometriosis\",\n      \"properties\": {\n        \"dtype\": \"string\",\n        \"num_unique_values\": 10,\n        \"samples\": [\n          \"59.28 (57.0)\",\n          53935,\n          7147\n        ],\n        \"semantic_type\": \"\",\n        \"description\": \"\"\n      }\n    },\n    {\n      \"column\": \"Combined\",\n      \"properties\": {\n        \"dtype\": \"string\",\n        \"num_unique_values\": 10,\n        \"samples\": [\n          \"60.36 (58.0)\",\n          90472,\n          14910\n        ],\n        \"semantic_type\": \"\",\n        \"description\": \"\"\n      }\n    }\n  ]\n}"
            }
          },
          "metadata": {},
          "execution_count": 22
        }
      ]
    },
    {
      "cell_type": "markdown",
      "source": [
        "# Figures"
      ],
      "metadata": {
        "id": "NFks_VeyD_66"
      }
    },
    {
      "cell_type": "code",
      "source": [
        "posts = data_df.loc[data_df['type']=='post']\n",
        "len(posts)"
      ],
      "metadata": {
        "colab": {
          "base_uri": "https://localhost:8080/"
        },
        "id": "lGRvW-ei4wrZ",
        "outputId": "9bbf2d02-28d2-413a-f291-04bc4824c515"
      },
      "execution_count": 13,
      "outputs": [
        {
          "output_type": "execute_result",
          "data": {
            "text/plain": [
              "34715"
            ]
          },
          "metadata": {},
          "execution_count": 13
        }
      ]
    },
    {
      "cell_type": "code",
      "source": [
        "comments = data_df.loc[data_df['type']=='comment']\n",
        "len(comments)"
      ],
      "metadata": {
        "colab": {
          "base_uri": "https://localhost:8080/"
        },
        "id": "q7PxeBRB8Rg-",
        "outputId": "1a63fd0b-73f6-4b1b-b7d0-618f84d39aef"
      },
      "execution_count": 14,
      "outputs": [
        {
          "output_type": "execute_result",
          "data": {
            "text/plain": [
              "353162"
            ]
          },
          "metadata": {},
          "execution_count": 14
        }
      ]
    },
    {
      "cell_type": "markdown",
      "source": [
        "## Combined plots"
      ],
      "metadata": {
        "id": "HDejlvWBihC6"
      }
    },
    {
      "cell_type": "code",
      "source": [
        "posts_year_df = posts.groupby('year').count().reset_index().rename(columns = {\"year\":\"Year\", \"id\":\"Counts\"})[['Year', 'Counts']]\n",
        "posts_year_df.loc[len(posts_year_df.index)] = [2013, 0]\n",
        "posts_year_df = posts_year_df.sort_values('Year')"
      ],
      "metadata": {
        "id": "2zgaA6q4ED5H"
      },
      "execution_count": 18,
      "outputs": []
    },
    {
      "cell_type": "code",
      "source": [
        "comments_year_df = comments.groupby('year').count().reset_index().rename(columns = {\"year\":\"Year\", \"id\":\"Counts\"})[['Year', 'Counts']]"
      ],
      "metadata": {
        "id": "iAvl7CGWK-VL"
      },
      "execution_count": 19,
      "outputs": []
    },
    {
      "cell_type": "markdown",
      "source": [
        "## Counts"
      ],
      "metadata": {
        "id": "6DcmKvCkj-Nd"
      }
    },
    {
      "cell_type": "markdown",
      "source": [
        "### Lineplot"
      ],
      "metadata": {
        "id": "4G6zoq3EjPC8"
      }
    },
    {
      "cell_type": "code",
      "source": [
        "plt.figure(figsize=(10, 7))\n",
        "ax = sns.lineplot(data=posts_year_df, x='Year', y='Counts', linewidth=3)\n",
        "\n",
        "# add grid\n",
        "ax.grid(color='grey', axis='y', linestyle='-', linewidth=0.25, alpha=0.5)\n",
        "plt.tick_params(left=False)  # remove the ticks\n",
        "\n",
        "# Remove top, left, right border\n",
        "ax.spines['top'].set_visible(False)\n",
        "ax.spines['right'].set_visible(False)\n",
        "ax.spines['left'].set_visible(False)\n",
        "\n",
        "plt.title('Number of Posts Over Time')\n",
        "plt.savefig(os.path.join(endo_dir, 'data', f'posts_years_lines.png'), dpi = 300, bbox_inches = \"tight\")\n",
        "plt.show()"
      ],
      "metadata": {
        "id": "vhM_gUtQsEVy",
        "colab": {
          "base_uri": "https://localhost:8080/",
          "height": 651
        },
        "outputId": "03065f2e-269d-4cf3-cf57-482a842681b2"
      },
      "execution_count": 30,
      "outputs": [
        {
          "output_type": "display_data",
          "data": {
            "text/plain": [
              "<Figure size 1000x700 with 1 Axes>"
            ],
            "image/png": "[encoded data removed]"
          },
          "metadata": {}
        }
      ]
    },
    {
      "cell_type": "markdown",
      "source": [
        "### Barplot"
      ],
      "metadata": {
        "id": "BjPHHIs0jQjU"
      }
    },
    {
      "cell_type": "code",
      "source": [
        "for tup in [('Posts', posts_year_df, \"Blues\"), ('Comments', comments_year_df, \"Oranges\")]:\n",
        "\n",
        "  typ = tup[0]\n",
        "  df = tup[1]\n",
        "  color_keyword = tup[2]\n",
        "\n",
        "  plt.figure(figsize=(10, 7))\n",
        "  ax = sns.barplot(data=df, x='Year', y='Counts', hue='Year', legend=False,\n",
        "                  palette=sns.color_palette(color_keyword, len(df.index)),\n",
        "                  edgecolor='white',\n",
        "                  errorbar=None)\n",
        "  for container in ax.containers:\n",
        "    for v in container:\n",
        "      labels = [f'{round(v.get_height())}' for v in container]\n",
        "      ax.bar_label(container, labels=labels, padding=3)\n",
        "\n",
        "  # add grid\n",
        "  ax.grid(color='grey', axis='y', linestyle='-', linewidth=0.25, alpha=0.5)\n",
        "  #plt.xticks(rotation=45, ha='right')\n",
        "  plt.tick_params(left=False)  # remove the ticks\n",
        "\n",
        "  # Remove top, left, right border\n",
        "  ax.spines['top'].set_visible(False)\n",
        "  ax.spines['right'].set_visible(False)\n",
        "  ax.spines['left'].set_visible(False)\n",
        "\n",
        "  plt.title(f'Number of {typ} Over Time')\n",
        "  plt.savefig(os.path.join(endo_dir, 'data', f'{typ.lower()}_years.png'), dpi = 300, bbox_inches = \"tight\")\n",
        "  plt.show()"
      ],
      "metadata": {
        "colab": {
          "base_uri": "https://localhost:8080/",
          "height": 1000
        },
        "id": "we6rzL14D-2M",
        "outputId": "f9ff0c92-6710-445c-85c3-e1fc127e33d9"
      },
      "execution_count": 31,
      "outputs": [
        {
          "output_type": "display_data",
          "data": {
            "text/plain": [
              "<Figure size 1000x700 with 1 Axes>"
            ],
            "image/png": "[encoded data removed]"
          },
          "metadata": {}
        },
        {
          "output_type": "display_data",
          "data": {
            "text/plain": [
              "<Figure size 1000x700 with 1 Axes>"
            ],
            "image/png": "[encoded data removed]"
          },
          "metadata": {}
        }
      ]
    },
    {
      "cell_type": "markdown",
      "source": [
        "### Length"
      ],
      "metadata": {
        "id": "kttsLmNbkFJ-"
      }
    },
    {
      "cell_type": "code",
      "source": [
        "for tup in [('Posts', posts_year_df, \"Blues\"), ('Comments', comments_year_df, \"Oranges\")]:\n",
        "\n",
        "  typ = tup[0]\n",
        "  df = tup[1]\n",
        "  color_keyword = tup[2]\n",
        "\n",
        "  plt.figure(figsize=(10, 7))\n",
        "  plt.xlim(xmin=-10,xmax=1000)\n",
        "\n",
        "  color = sns.color_palette(color_keyword)[len(df.index)//2]\n",
        "  if typ == 'Posts':\n",
        "    ax = sns.histplot(data=posts, x=\"n_words\", bins=100, binrange=(0,1000), color=color, edgecolor='white')\n",
        "  elif typ == 'Comments':\n",
        "    ax = sns.histplot(data=comments, x=\"n_words\", bins=80, binrange=(0,400), color=color, edgecolor='white')\n",
        "\n",
        "  ax.set_xlim(-20,1000)\n",
        "  ax.grid(color='grey', axis='y', linestyle='-', linewidth=0.25, alpha=0.5)\n",
        "  plt.tick_params(left=False)\n",
        "  ax.spines['top'].set_visible(False)\n",
        "  ax.spines['right'].set_visible(False)\n",
        "  ax.spines['left'].set_visible(False)\n",
        "\n",
        "  plt.xlabel('Number of Words in Post')\n",
        "  plt.ylabel('Number of Posts')\n",
        "  plt.savefig(os.path.join(endo_dir, 'data', f'len_{typ.lower()}.png'), dpi = 500, bbox_inches = \"tight\")\n",
        "  plt.show()"
      ],
      "metadata": {
        "colab": {
          "base_uri": "https://localhost:8080/",
          "height": 1000
        },
        "id": "Klqeurz7PUUd",
        "outputId": "d9975774-387c-4cbd-f558-09de92cb40f1"
      },
      "execution_count": 44,
      "outputs": [
        {
          "output_type": "display_data",
          "data": {
            "text/plain": [
              "<Figure size 1000x700 with 1 Axes>"
            ],
            "image/png": "[encoded data removed]"
          },
          "metadata": {}
        },
        {
          "output_type": "display_data",
          "data": {
            "text/plain": [
              "<Figure size 1000x700 with 1 Axes>"
            ],
            "image/png": "[encoded data removed]"
          },
          "metadata": {}
        }
      ]
    },
    {
      "cell_type": "markdown",
      "source": [
        "# Other"
      ],
      "metadata": {
        "id": "lZvFtKr3o48u"
      }
    },
    {
      "cell_type": "markdown",
      "source": [
        "## Common authors"
      ],
      "metadata": {
        "id": "di-5orXQ5ovg"
      }
    },
    {
      "cell_type": "code",
      "source": [
        "print(f'Common authors: {len(np.intersect1d(endo.author.unique().tolist(), endometriosis.author.unique().tolist()))}')"
      ],
      "metadata": {
        "colab": {
          "base_uri": "https://localhost:8080/"
        },
        "id": "rnTXNQojs54U",
        "outputId": "0a9ee73b-90ea-44c8-a0b4-75790a30a617"
      },
      "execution_count": null,
      "outputs": [
        {
          "output_type": "stream",
          "name": "stdout",
          "text": [
            "Common authors: 7631\n"
          ]
        }
      ]
    },
    {
      "cell_type": "markdown",
      "source": [
        "## Removed posts and comments"
      ],
      "metadata": {
        "id": "L2wzXqL6rxb3"
      }
    },
    {
      "cell_type": "code",
      "source": [
        "flag = 0\n",
        "for index, row in data_df.loc[data_df['type']=='post'].iterrows():\n",
        "  if row['text'] == '[deleted]' or row['text'] == '[removed]':\n",
        "    flag+=1\n",
        "\n",
        "flag"
      ],
      "metadata": {
        "colab": {
          "base_uri": "https://localhost:8080/"
        },
        "id": "hCVTK2Jn7ImA",
        "outputId": "0b0af108-9771-4c74-b02d-9234d484d3d9"
      },
      "execution_count": null,
      "outputs": [
        {
          "output_type": "execute_result",
          "data": {
            "text/plain": [
              "0"
            ]
          },
          "metadata": {},
          "execution_count": 17
        }
      ]
    },
    {
      "cell_type": "code",
      "source": [
        "flag = 0\n",
        "for index, row in data_df.loc[data_df['type']=='comment'].iterrows():\n",
        "  if row['text'] == '[deleted]' or row['text'] == '[removed]':\n",
        "    flag+=1\n",
        "\n",
        "flag"
      ],
      "metadata": {
        "colab": {
          "base_uri": "https://localhost:8080/"
        },
        "id": "D7StBsCc5Kda",
        "outputId": "1df43664-e460-46c7-9806-e262ab1c8724"
      },
      "execution_count": null,
      "outputs": [
        {
          "output_type": "execute_result",
          "data": {
            "text/plain": [
              "4210"
            ]
          },
          "metadata": {},
          "execution_count": 21
        }
      ]
    },
    {
      "cell_type": "code",
      "source": [
        "flag = 0\n",
        "for index, row in data_df.loc[data_df['subreddit']=='Endo'].loc[data_df['type']=='comment'].iterrows():\n",
        "  if row['text'] == '[deleted]' or row['text'] == '[removed]':\n",
        "    flag+=1\n",
        "\n",
        "flag"
      ],
      "metadata": {
        "colab": {
          "base_uri": "https://localhost:8080/"
        },
        "id": "9m1zjXCBrlVN",
        "outputId": "76b9b38b-a3af-4d31-df29-5e5cb926854c"
      },
      "execution_count": null,
      "outputs": [
        {
          "output_type": "execute_result",
          "data": {
            "text/plain": [
              "3002"
            ]
          },
          "metadata": {},
          "execution_count": 12
        }
      ]
    },
    {
      "cell_type": "code",
      "source": [
        "flag = 0\n",
        "for index, row in data_df.loc[data_df['subreddit']=='endometriosis'].loc[data_df['type']=='comment'].iterrows():\n",
        "  if row['text'] == '[deleted]' or row['text'] == '[removed]':\n",
        "    flag+=1\n",
        "\n",
        "flag"
      ],
      "metadata": {
        "colab": {
          "base_uri": "https://localhost:8080/"
        },
        "id": "snaQL-rDrq1x",
        "outputId": "5ff5d55b-2ad0-4828-c20c-7ee4bd4c44e9"
      },
      "execution_count": null,
      "outputs": [
        {
          "output_type": "execute_result",
          "data": {
            "text/plain": [
              "1208"
            ]
          },
          "metadata": {},
          "execution_count": 13
        }
      ]
    },
    {
      "cell_type": "markdown",
      "source": [
        "## Topic modeling file"
      ],
      "metadata": {
        "id": "0Opwe9GhudP3"
      }
    },
    {
      "cell_type": "code",
      "source": [
        "#Load topic modeling file\n",
        "topic_model_file = os.path.join(endo_dir, 'output', 'topic-modeling', 'parags', 'endo+endometriosis-25_10.pkl')\n",
        "tomo_df = pd.read_pickle(topic_model_file).reset_index().rename(columns = {\"index\":\"id\"}) # change index into column\n",
        "\n",
        "# add column with info about where the paragraph comes from, whether post or comment\n",
        "tomo_df['og_id'] = ['_'.join(x.split('_')[:3]) for x in tomo_df.id]\n",
        "\n",
        "# group paragraphs' distributions by the post/comment the paragraph comes from, taking the average of the distributions\n",
        "type_df = tomo_df.groupby(['og_id'], sort=False).mean().reset_index().rename(columns = {\"og_id\":\"id\"}).drop(columns=['dominant_topic'])\n",
        "type_df['type'] = [x.split('_')[2] for x in type_df.id]\n",
        "print(len(type_df))"
      ],
      "metadata": {
        "colab": {
          "base_uri": "https://localhost:8080/"
        },
        "id": "tmI6CaI-4lgC",
        "outputId": "5a7aee59-917f-41f4-e40e-71aa6306555b"
      },
      "execution_count": null,
      "outputs": [
        {
          "output_type": "stream",
          "name": "stdout",
          "text": [
            "334042\n"
          ]
        }
      ]
    },
    {
      "cell_type": "code",
      "source": [
        "len(type_df.loc[type_df['type']=='post'])"
      ],
      "metadata": {
        "colab": {
          "base_uri": "https://localhost:8080/"
        },
        "id": "T2qeV1rk6jMA",
        "outputId": "9009e829-0589-472e-a415-f6af6bd9403d"
      },
      "execution_count": null,
      "outputs": [
        {
          "output_type": "execute_result",
          "data": {
            "text/plain": [
              "34190"
            ]
          },
          "metadata": {},
          "execution_count": 13
        }
      ]
    },
    {
      "cell_type": "code",
      "source": [
        "len(type_df.loc[type_df['type']=='comment'])"
      ],
      "metadata": {
        "colab": {
          "base_uri": "https://localhost:8080/"
        },
        "id": "IBAkoMaR6iHy",
        "outputId": "b6beeaab-a7bc-418c-88e8-b1212696b247"
      },
      "execution_count": null,
      "outputs": [
        {
          "output_type": "execute_result",
          "data": {
            "text/plain": [
              "299852"
            ]
          },
          "metadata": {},
          "execution_count": 14
        }
      ]
    }
  ]
}