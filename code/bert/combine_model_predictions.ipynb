{
 "cells": [
  {
   "cell_type": "code",
   "execution_count": null,
   "metadata": {
    "id": "hMRMSoyNnh-j"
   },
   "outputs": [],
   "source": [
    "# point to the drive directory\n",
    "endo_dir = '/content/drive/MyDrive/endometriosis/'"
   ]
  },
  {
   "cell_type": "code",
   "execution_count": null,
   "metadata": {
    "id": "32F4ScmHn0sC"
   },
   "outputs": [],
   "source": [
    "import json\n",
    "import pandas as pd\n",
    "import numpy as np\n",
    "from numpy import mean\n",
    "from collections import Counter\n",
    "import pickle\n",
    "import re\n",
    "import random\n",
    "import os\n",
    "\n",
    "import seaborn as sns\n",
    "import matplotlib.pyplot as plt\n",
    "\n",
    "from google.colab import drive, files"
   ]
  },
  {
   "cell_type": "code",
   "execution_count": null,
   "metadata": {
    "colab": {
     "base_uri": "https://localhost:8080/"
    },
    "executionInfo": {
     "elapsed": 14723,
     "status": "ok",
     "timestamp": 1654624175148,
     "user": {
      "displayName": "Federica Bologna",
      "userId": "16530074403271623482"
     },
     "user_tz": -120
    },
    "id": "dyzt2fezn3v-",
    "outputId": "6941a153-bb18-47bd-9a20-50bff4eeaf84"
   },
   "outputs": [
    {
     "name": "stdout",
     "output_type": "stream",
     "text": [
      "Mounted at /content/drive\n"
     ]
    }
   ],
   "source": [
    "# use to connect to Google Drive if running on Google Colab\n",
    "drive.mount('/content/drive')"
   ]
  },
  {
   "cell_type": "code",
   "execution_count": null,
   "metadata": {
    "id": "vgMCyCe8n76E"
   },
   "outputs": [],
   "source": [
    "# set file paths\n",
    "model_output_dir = os.path.join(endo_dir, 'output', 'predictions', 'INTENT')\n",
    "dataset_path = os.path.join(endo_dir, 'data','endo+endometriosis.pkl')\n",
    "output_path = os.path.join(endo_dir, 'output', 'predictions', 'INTENT', 'intent_predictions.csv')\n",
    "pickle_path = os.path.join(endo_dir, 'output', 'predictions', 'INTENT', 'intent_predictions.pkl')"
   ]
  },
  {
   "cell_type": "code",
   "execution_count": null,
   "metadata": {
    "id": "IsdI0TgnoFXN"
   },
   "outputs": [],
   "source": [
    "folder_names = os.listdir(model_output_dir)"
   ]
  },
  {
   "cell_type": "code",
   "execution_count": null,
   "metadata": {
    "colab": {
     "base_uri": "https://localhost:8080/"
    },
    "executionInfo": {
     "elapsed": 196,
     "status": "ok",
     "timestamp": 1654624207717,
     "user": {
      "displayName": "Federica Bologna",
      "userId": "16530074403271623482"
     },
     "user_tz": -120
    },
    "id": "DGnRAcyTVoq6",
    "outputId": "80059cb3-466a-4013-e035-aa330883a201"
   },
   "outputs": [
    {
     "data": {
      "text/plain": [
       "['SEEKING_EXPERIENCES', 'SEEKING_INFO']"
      ]
     },
     "execution_count": 6,
     "metadata": {},
     "output_type": "execute_result"
    }
   ],
   "source": [
    "# sanity check\n",
    "folder_names"
   ]
  },
  {
   "cell_type": "code",
   "execution_count": null,
   "metadata": {
    "id": "Nxk5kiYson8J"
   },
   "outputs": [],
   "source": [
    "endo_df = pd.read_pickle(dataset_path)\n",
    "endo_df = endo_df.loc[endo_df['type'] == 'post']"
   ]
  },
  {
   "cell_type": "code",
   "execution_count": null,
   "metadata": {
    "id": "JQk5dn7o7GBs"
   },
   "outputs": [],
   "source": [
    "endo_df.sample(10)"
   ]
  },
  {
   "cell_type": "code",
   "execution_count": null,
   "metadata": {
    "id": "2uiO4WybpT5l"
   },
   "outputs": [],
   "source": [
    "# for each predictions dataframe, add only the predictions_ column to the main df\n",
    "for df in df_list:\n",
    "  prediction_column_name = [col for col in df if col.startswith('predictions_')]\n",
    "  prediction_column = df[prediction_column_name]\n",
    "  endo_df[prediction_column_name] = prediction_column"
   ]
  },
  {
   "cell_type": "code",
   "execution_count": null,
   "metadata": {
    "id": "FmVI_BdqszYw"
   },
   "outputs": [],
   "source": [
    "# check your work\n",
    "endo_df.sample(3)"
   ]
  },
  {
   "cell_type": "code",
   "execution_count": null,
   "metadata": {
    "id": "hfwBIXPas80R"
   },
   "outputs": [],
   "source": [
    "# save the big dataframe\n",
    "endo_df.to_csv(output_path)\n",
    "endo_df.to_pickle(pickle_path, protocol=4)"
   ]
  },
  {
   "cell_type": "code",
   "execution_count": null,
   "metadata": {
    "id": "F-ZATwb6tY4a"
   },
   "outputs": [],
   "source": [
    "#endo_df = pd.read_csv(output_path)"
   ]
  },
  {
   "cell_type": "code",
   "execution_count": null,
   "metadata": {
    "id": "TZ7zCIzFqtps"
   },
   "outputs": [],
   "source": []
  }
 ],
 "metadata": {
  "colab": {
   "collapsed_sections": [],
   "name": "combine_model_predictions.ipynb",
   "provenance": []
  },
  "kernelspec": {
   "display_name": "Python 3",
   "name": "python3"
  },
  "language_info": {
   "name": "python"
  }
 },
 "nbformat": 4,
 "nbformat_minor": 0
}
